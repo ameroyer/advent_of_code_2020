{
 "cells": [
  {
   "cell_type": "markdown",
   "metadata": {},
   "source": [
    "# 🎀 [Day 22](https://adventofcode.com/2020/day/22)"
   ]
  },
  {
   "cell_type": "code",
   "execution_count": 1,
   "metadata": {},
   "outputs": [],
   "source": [
    "def parse(inputs):\n",
    "    decks = inputs.split('\\n\\n')\n",
    "    deck1 = list(map(int, decks[0].splitlines()[1:]))\n",
    "    deck2 = list(map(int, decks[1].splitlines()[1:]))\n",
    "    return deck1, deck2\n",
    "\n",
    "def play_game(decks):\n",
    "    # Play until win\n",
    "    while len(decks[0]) > 0 and len(decks[1]) > 0:\n",
    "        card1 = decks[0].pop(0)\n",
    "        card2 = decks[1].pop(0)\n",
    "        if card1 > card2:\n",
    "            decks[0].append(card1)\n",
    "            decks[0].append(card2)\n",
    "        else:\n",
    "            decks[1].append(card2)\n",
    "            decks[1].append(card1)\n",
    "    # Compute score\n",
    "    winning_deck = decks[0] if len(decks[1]) == 0 else decks[1]\n",
    "    n_card = len(winning_deck)\n",
    "    return sum((n_card - i) * card for i, card in enumerate(winning_deck))\n",
    "\n",
    "\n",
    "def play_recursive_game(decks, g=0, index=1, verbose=True):\n",
    "    history = ({}, {})\n",
    "    subgames = 0\n",
    "    while len(decks[0]) > 0 and len(decks[1]) > 0:\n",
    "        if (tuple(decks[0]) in history[0] or \n",
    "            tuple(decks[1]) in history[1]):\n",
    "            # Avoid infinite recursive game\n",
    "            # Player 1 wins\n",
    "            n_card = len(decks[0])\n",
    "            score = sum((n_card - i) * card for i, card in enumerate(decks[0]))\n",
    "            if verbose:\n",
    "                print(f\"Game {g + 1} won by player 1 (default) (score = {score})\")\n",
    "            return 0, g, score\n",
    "        else:\n",
    "            # save deck history\n",
    "            for k in [0, 1]:\n",
    "                history[k][tuple(decks[k])] = True\n",
    "            # Play round\n",
    "            card1 = decks[0].pop(0)\n",
    "            card2 = decks[1].pop(0)\n",
    "            if card1 <= len(decks[0]) and card2 <= len(decks[1]):\n",
    "                # Play recursive game with copies of cards\n",
    "                subgames += 1\n",
    "                winner, s, _ = play_recursive_game(\n",
    "                    [[x for x in decks[0][:card1]], [x for x in decks[1][:card2]]], \n",
    "                    g=g + subgames, verbose=verbose)\n",
    "                subgames += s\n",
    "                # Found the winner\n",
    "                if winner == 0:\n",
    "                    decks[0].append(card1)\n",
    "                    decks[0].append(card2)\n",
    "                else:\n",
    "                    decks[1].append(card2)\n",
    "                    decks[1].append(card1)\n",
    "            else:\n",
    "                # Same as normal game\n",
    "                if card1 > card2:\n",
    "                    decks[0].append(card1)\n",
    "                    decks[0].append(card2)\n",
    "                else:\n",
    "                    decks[1].append(card2)\n",
    "                    decks[1].append(card1)\n",
    "    # Final score\n",
    "    winner = 0 if len(decks[1]) == 0 else 1\n",
    "    n_card = len(decks[winner])\n",
    "    score = sum((n_card - i) * card for i, card in enumerate(decks[winner]))\n",
    "    if verbose:\n",
    "        print(f\"Game {g + 1} won by player {winner + 1}\")\n",
    "        print(f\"Final deck: {decks[winner]} (score = {score})\")\n",
    "    return winner, subgames, score"
   ]
  },
  {
   "cell_type": "code",
   "execution_count": 2,
   "metadata": {},
   "outputs": [
    {
     "name": "stdout",
     "output_type": "stream",
     "text": [
      "The winning player scores 33421 points.\n",
      "But in the recursive game, the winning player scores 33651 points.\n"
     ]
    }
   ],
   "source": [
    "with open('inputs/day22.txt', 'r') as f:\n",
    "    decks = parse(f.read())\n",
    "\n",
    "score = play_game([[x for x in decks[0]], [x for x in decks[1]]])\n",
    "print(f\"The winning player scores {score} points.\")\n",
    "recursive_score = play_recursive_game([[x for x in decks[0]], [x for x in decks[1]]], verbose=False)[2]\n",
    "print(f\"But in the recursive game, the winning player scores {recursive_score} points.\")"
   ]
  }
 ],
 "metadata": {
  "kernelspec": {
   "display_name": "Python 3",
   "language": "python",
   "name": "python3"
  },
  "language_info": {
   "codemirror_mode": {
    "name": "ipython",
    "version": 3
   },
   "file_extension": ".py",
   "mimetype": "text/x-python",
   "name": "python",
   "nbconvert_exporter": "python",
   "pygments_lexer": "ipython3",
   "version": "3.8.5"
  }
 },
 "nbformat": 4,
 "nbformat_minor": 4
}
