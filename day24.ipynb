{
 "cells": [
  {
   "cell_type": "markdown",
   "metadata": {},
   "source": [
    "# 🎉 [Day 24](https://adventofcode.com/2020/day/24)"
   ]
  },
  {
   "cell_type": "code",
   "execution_count": 103,
   "metadata": {},
   "outputs": [],
   "source": [
    "from collections import defaultdict\n",
    "\n",
    "def merge(tile):\n",
    "    # Cancel out north/south directions\n",
    "    # In fact,we see that: ne + se = e\n",
    "    m = min(tile[1], tile[2])\n",
    "    return (tile[0] + m, tile[1] - m, tile[2] - m)\n",
    "\n",
    "\n",
    "def unique_tile_identifier(tile):\n",
    "    ## Build a unique tile identifier using the \n",
    "    ## fact that step order does not matter\n",
    "    directions = {'e': 0, 'se': 0, 'ne': 0}\n",
    "    index = 0\n",
    "    while index < len(tile):\n",
    "        # Parse next direction\n",
    "        if tile[index] == 'e' or tile[index] == 'w':\n",
    "            d = tile[index]\n",
    "            index += 1\n",
    "        else:\n",
    "            d = tile[index:index+2]\n",
    "            index += 2\n",
    "        # Cancel out west / east opposite directions\n",
    "        if d == 'w':\n",
    "            directions['e'] -= 1\n",
    "        elif d == 'nw':\n",
    "            directions['se'] -= 1\n",
    "        elif d == 'sw':\n",
    "            directions['ne'] -= 1\n",
    "        else:\n",
    "            directions[d] += 1\n",
    "    tile = (directions['e'], directions['se'], directions['ne'])\n",
    "    return merge(tile)\n",
    "        \n",
    "    \n",
    "def color_tiles(inputs):\n",
    "    \"\"\"Part 1\"\"\"\n",
    "    seen = defaultdict(lambda: False)\n",
    "    for tile in inputs:\n",
    "        t = unique_tile_identifier(tile)\n",
    "        seen[t] = not seen[t]\n",
    "    return sum(seen.values())\n",
    "\n",
    "\n",
    "def get_hexagonal_ngbrs(tile):\n",
    "    # All 6 neighbors in our indexing scheme\n",
    "    return [(tile[0] + 1, tile[1], tile[2]),\n",
    "            (tile[0] - 1, tile[1], tile[2]),\n",
    "            merge((tile[0], tile[1] + 1, tile[2])),\n",
    "            merge((tile[0], tile[1] - 1, tile[2])),\n",
    "            merge((tile[0], tile[1], tile[2] + 1)),\n",
    "            merge((tile[0], tile[1], tile[2] - 1))]\n",
    "\n",
    "\n",
    "def exhibit(inputs, num_days=1):\n",
    "    \"\"\"Part 2\"\"\"\n",
    "    # Initial coloring\n",
    "    black = {}\n",
    "    for tile in inputs:\n",
    "        t = unique_tile_identifier(tile)\n",
    "        if t in black:\n",
    "            del black[t]\n",
    "        else:\n",
    "            black[t] = True\n",
    "        \n",
    "    # Count black neighbors\n",
    "    for _ in range(num_days):\n",
    "        neighbors = defaultdict(lambda: 0)\n",
    "        for tile in black:\n",
    "            if tile not in neighbors:\n",
    "                neighbors[tile] = 0\n",
    "            nxt_tiles = get_hexagonal_ngbrs(tile)\n",
    "            for t in nxt_tiles:\n",
    "                neighbors[t] += 1\n",
    "\n",
    "        # Now that we're done with counting, we can switch tiles\n",
    "        black_cp = {k: v for k, v in black.items()}\n",
    "        for tile in neighbors:\n",
    "            if tile in black_cp:\n",
    "                if neighbors[tile] == 0 or neighbors[tile] > 2:\n",
    "                    del black[tile]\n",
    "            else:\n",
    "                if neighbors[tile] == 2:\n",
    "                    black[tile] = True\n",
    "                \n",
    "    return len(black)"
   ]
  },
  {
   "cell_type": "code",
   "execution_count": 108,
   "metadata": {},
   "outputs": [
    {
     "name": "stdout",
     "output_type": "stream",
     "text": [
      "There are 538 black tiles after painting.\n",
      "There are 4259 at the end of the exhibit.\n"
     ]
    }
   ],
   "source": [
    "with open('inputs/day24.txt', 'r') as f:\n",
    "    inputs = f.read().splitlines()\n",
    "\n",
    "print(f\"There are {color_tiles(inputs)} black tiles after painting.\")\n",
    "print(f\"There are {exhibit(inputs, 100)} at the end of the exhibit.\")"
   ]
  }
 ],
 "metadata": {
  "kernelspec": {
   "display_name": "Python 3",
   "language": "python",
   "name": "python3"
  },
  "language_info": {
   "codemirror_mode": {
    "name": "ipython",
    "version": 3
   },
   "file_extension": ".py",
   "mimetype": "text/x-python",
   "name": "python",
   "nbconvert_exporter": "python",
   "pygments_lexer": "ipython3",
   "version": "3.8.5"
  }
 },
 "nbformat": 4,
 "nbformat_minor": 4
}
