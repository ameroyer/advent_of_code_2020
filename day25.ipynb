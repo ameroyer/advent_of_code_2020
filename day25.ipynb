{
 "cells": [
  {
   "cell_type": "markdown",
   "metadata": {},
   "source": [
    "# 💫 [Day 25](https://adventofcode.com/2020/day/25)"
   ]
  },
  {
   "cell_type": "code",
   "execution_count": 1,
   "metadata": {},
   "outputs": [],
   "source": [
    "## Handshake protocol\n",
    "## c and d are the card's and \n",
    "## door's secret key respectively\n",
    "# pk_c = (7**c) % 20201227\n",
    "# pk_d = (7**d) % 20201227\n",
    "# encription_key = (pk_c ** d) % 20201227 = (pk_d ** c) % 20201227\n",
    "\n",
    "\n",
    "def find_loop_keys(pkc, pkd, num_trials=100):\n",
    "    v = 1\n",
    "    for loop in range(1, num_trials):\n",
    "        v = (v * 7) % 20201227\n",
    "        if v == pkc:\n",
    "            print(f\"Found card's loop key: {loop}\")\n",
    "            print(f\"Encription key is {pow(pkd, loop, 20201227)}\")\n",
    "            return\n",
    "        elif v == pkd:\n",
    "            print(f\"Found door's loop key: {loop}\")\n",
    "            print(f\"Encription key is {pow(pkc, loop, 20201227)}\")\n",
    "            return\n",
    "    print(f\"No loop keys found in range [1, {num_trials}]\")\n",
    "    return None"
   ]
  },
  {
   "cell_type": "code",
   "execution_count": 2,
   "metadata": {},
   "outputs": [
    {
     "name": "stdout",
     "output_type": "stream",
     "text": [
      "Found card's loop key: 8987376\n",
      "Encription key is 9620012\n"
     ]
    }
   ],
   "source": [
    "with open('inputs/day25.txt', 'r') as f:\n",
    "    pkc, pkd = tuple(map(int, f.read().splitlines()))\n",
    "    \n",
    "find_loop_keys(pkc, pkd, num_trials=10000000)"
   ]
  }
 ],
 "metadata": {
  "kernelspec": {
   "display_name": "Python 3",
   "language": "python",
   "name": "python3"
  },
  "language_info": {
   "codemirror_mode": {
    "name": "ipython",
    "version": 3
   },
   "file_extension": ".py",
   "mimetype": "text/x-python",
   "name": "python",
   "nbconvert_exporter": "python",
   "pygments_lexer": "ipython3",
   "version": "3.8.5"
  }
 },
 "nbformat": 4,
 "nbformat_minor": 4
}
