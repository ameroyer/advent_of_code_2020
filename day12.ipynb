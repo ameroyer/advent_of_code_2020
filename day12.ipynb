{
 "cells": [
  {
   "cell_type": "markdown",
   "metadata": {},
   "source": [
    "# 🎆 [Day 12](https://adventofcode.com/2020/day/12)"
   ]
  },
  {
   "cell_type": "code",
   "execution_count": 1,
   "metadata": {},
   "outputs": [],
   "source": [
    "def navigate(inputs):\n",
    "    x, y = 0, 0\n",
    "    orientation = (1, 0)\n",
    "    for line in inputs:\n",
    "        # Rotation\n",
    "        if line[0] in ['L', 'R']:\n",
    "            if line[1:] == '180':\n",
    "                orientation = (-orientation[0], -orientation[1])\n",
    "            else:\n",
    "                if ((line[0] == 'L' and line[1:] == '90') \n",
    "                    or (line[0] == 'R' and line[1:] == '270')):\n",
    "                    sgn = -1 if orientation[0] else 1\n",
    "                elif ((line[0] == 'R' and line[1:] == '90') \n",
    "                      or (line[0] == 'L' and line[1:] == '270')):\n",
    "                    sgn = -1 if orientation[1] else 1\n",
    "                orientation = (sgn * orientation[1], sgn * orientation[0])\n",
    "        # Move\n",
    "        else:\n",
    "            steps = int(line[1:])\n",
    "            if line[0] == 'F':\n",
    "                x += orientation[0] * steps\n",
    "                y += orientation[1] * steps\n",
    "            elif line[0] == 'E':\n",
    "                x += steps\n",
    "            elif line[0] == 'W':\n",
    "                x -= steps\n",
    "            elif line[0] == 'N':\n",
    "                y -= steps\n",
    "            elif line[0] == 'S':\n",
    "                y += steps\n",
    "    #Return L1 dist\n",
    "    return abs(x) + abs(y)\n",
    "\n",
    "\n",
    "def navigate_relative(inputs):\n",
    "    \"\"\"Orientation is now the diff between the waypoint and the ship\"\"\"\n",
    "    x, y = 0, 0\n",
    "    orientation = [10, -1]\n",
    "    for line in inputs:\n",
    "        # Rotation\n",
    "        if line[0] in ['L', 'R']:\n",
    "            if line[1:] == '180':\n",
    "                orientation = [-orientation[0], -orientation[1]]\n",
    "            else:\n",
    "                if ((line[0] == 'L' and line[1:] == '90') \n",
    "                    or (line[0] == 'R' and line[1:] == '270')):\n",
    "                    if orientation[0] * orientation[1] == 1:\n",
    "                        sgn_x, sgn_y = 1, -1\n",
    "                    else:\n",
    "                        sgn_x, sgn_y = -1, 1\n",
    "                elif ((line[0] == 'R' and line[1:] == '90') \n",
    "                      or (line[0] == 'L' and line[1:] == '270')):\n",
    "                    if orientation[0] * orientation[1] == 1:\n",
    "                        sgn_x, sgn_y = -1, 1\n",
    "                    else:\n",
    "                        sgn_x, sgn_y = 1, -1\n",
    "                orientation = [sgn_y * orientation[1], sgn_x * orientation[0]]\n",
    "        # Move\n",
    "        else:\n",
    "            steps = int(line[1:])\n",
    "            if line[0] == 'F':\n",
    "                x += orientation[0] * steps\n",
    "                y += orientation[1] * steps\n",
    "            elif line[0] == 'E':\n",
    "                orientation[0] += steps\n",
    "            elif line[0] == 'W':\n",
    "                orientation[0] -= steps\n",
    "            elif line[0] == 'N':\n",
    "                orientation[1] -= steps\n",
    "            elif line[0] == 'S':\n",
    "                orientation[1] += steps\n",
    "    #Return L1 dist\n",
    "    return abs(x) + abs(y)"
   ]
  },
  {
   "cell_type": "code",
   "execution_count": 2,
   "metadata": {},
   "outputs": [
    {
     "name": "stdout",
     "output_type": "stream",
     "text": [
      "The L1 distance to the target is 845\n",
      "Using waypoint navigation, the L1 distance to the target is 27016\n"
     ]
    }
   ],
   "source": [
    "with open('inputs/day12.txt', 'r') as f:\n",
    "    inputs = f.read().splitlines()\n",
    "    \n",
    "print(f\"The L1 distance to the target is {navigate(inputs)}\")\n",
    "print(f\"Using waypoint navigation, the L1 distance to the target is {navigate_relative(inputs)}\")"
   ]
  }
 ],
 "metadata": {
  "kernelspec": {
   "display_name": "Python 3",
   "language": "python",
   "name": "python3"
  },
  "language_info": {
   "codemirror_mode": {
    "name": "ipython",
    "version": 3
   },
   "file_extension": ".py",
   "mimetype": "text/x-python",
   "name": "python",
   "nbconvert_exporter": "python",
   "pygments_lexer": "ipython3",
   "version": "3.8.5"
  }
 },
 "nbformat": 4,
 "nbformat_minor": 4
}
