{
 "cells": [
  {
   "cell_type": "markdown",
   "metadata": {},
   "source": [
    "# 🌰 [Day 15](https://adventofcode.com/2020/day/15)"
   ]
  },
  {
   "cell_type": "code",
   "execution_count": 1,
   "metadata": {},
   "outputs": [],
   "source": [
    "def memory_game(inputs, num_rounds):\n",
    "    memory = {}\n",
    "    for i, x in enumerate(inputs):\n",
    "        memory[x] = i + 1\n",
    "        \n",
    "    last_number = x\n",
    "    buffer = None\n",
    "    for i in range(len(inputs) + 1, num_rounds + 1):\n",
    "        if buffer is not None:\n",
    "            last_number = buffer\n",
    "            buffer = None\n",
    "        else:\n",
    "            last_number = 0\n",
    "            \n",
    "        if last_number in memory:\n",
    "            buffer = i - memory[last_number]\n",
    "\n",
    "        # Update memory of rounds\n",
    "        memory[last_number] = i\n",
    "    \n",
    "    return last_number"
   ]
  },
  {
   "cell_type": "code",
   "execution_count": 2,
   "metadata": {},
   "outputs": [
    {
     "name": "stdout",
     "output_type": "stream",
     "text": [
      "The 2020-th number in the memory game is 1259\n",
      "And the 30000000-th is 689\n",
      "\n",
      "CPU times: user 11.8 s, sys: 310 ms, total: 12.1 s\n",
      "Wall time: 12.2 s\n"
     ]
    }
   ],
   "source": [
    "%%time\n",
    "with open('inputs/day14.txt', 'r') as f:\n",
    "    inputs = f.read().splitlines()\n",
    "    \n",
    "print(f\"The 2020-th number in the memory game is {memory_game([15,5,1,4,7,0], 2020)}\")\n",
    "print(f\"And the 30000000-th is {memory_game([15,5,1,4,7,0], 30000000)}\")\n",
    "print()"
   ]
  }
 ],
 "metadata": {
  "kernelspec": {
   "display_name": "Python 3",
   "language": "python",
   "name": "python3"
  },
  "language_info": {
   "codemirror_mode": {
    "name": "ipython",
    "version": 3
   },
   "file_extension": ".py",
   "mimetype": "text/x-python",
   "name": "python",
   "nbconvert_exporter": "python",
   "pygments_lexer": "ipython3",
   "version": "3.8.5"
  }
 },
 "nbformat": 4,
 "nbformat_minor": 4
}
