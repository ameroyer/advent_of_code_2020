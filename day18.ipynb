{
 "cells": [
  {
   "cell_type": "markdown",
   "metadata": {},
   "source": [
    "# 🍠 [Day 18](https://adventofcode.com/2020/day/18)"
   ]
  },
  {
   "cell_type": "code",
   "execution_count": 1,
   "metadata": {},
   "outputs": [],
   "source": [
    "def do_math(operation):\n",
    "    \"\"\"Solve maths following Part 1\"\"\"\n",
    "    result = 0\n",
    "    # Op stack accumulates result, last operand and last op\n",
    "    # Each element in the stack correponds to a \n",
    "    # different parenthesis group\n",
    "    op_stack = [(0, 0, None)] \n",
    "    for c in operation:\n",
    "        if c == ' ':\n",
    "            continue\n",
    "            \n",
    "        # Apply operation\n",
    "        elif c in ['+', '*']:\n",
    "            res, operand, last_op = op_stack[-1]\n",
    "            \n",
    "            if last_op is not None:\n",
    "                res = last_op(res, operand)\n",
    "            else:\n",
    "                res = operand\n",
    "                \n",
    "            if c == '+':\n",
    "                last_op = lambda a, b: a + b\n",
    "            else:\n",
    "                last_op = lambda a, b: a * b\n",
    "                \n",
    "            op_stack[-1] = (res, 0, last_op)\n",
    "            \n",
    "        # Start new op group\n",
    "        elif c == '(':\n",
    "            op_stack.append((0, 0, None))\n",
    "        # End op group\n",
    "        elif c == ')':\n",
    "            # Close latest group\n",
    "            res, operand, last_op = op_stack.pop()\n",
    "            if last_op is not None:\n",
    "                res = last_op(res, operand)\n",
    "            else:\n",
    "                res = operand\n",
    "            # Add the result to the ancestor stack\n",
    "            op_stack[-1] = (op_stack[-1][0], res, op_stack[-1][2])\n",
    "            \n",
    "        # Accumulate number\n",
    "        else:\n",
    "            operand = op_stack[-1][1]\n",
    "            operand = 10 * operand + int(c)\n",
    "            op_stack[-1] = (op_stack[-1][0], operand, op_stack[-1][2])\n",
    "            \n",
    "    # Finish last operation\n",
    "    assert len(op_stack) == 1\n",
    "    if op_stack[0][-1] is not None:\n",
    "        res = op_stack[0][-1](op_stack[0][0], op_stack[0][1])\n",
    "    else: # This might happen in part 2 due to the parenthesis \n",
    "          # eg we might end up in cases like ((2 + 2))\n",
    "        res = op_stack[0][1]\n",
    "    return res\n",
    "\n",
    "def do_advanced_math(operation):\n",
    "    \"\"\"A quick/dirty way to handle precedence is to treat *\n",
    "    symbols the same as parenthesis groups\"\"\"\n",
    "    operation = operation.replace('(', '((').replace(')', '))')\n",
    "    operation = operation.replace(' * ', ') * (')\n",
    "    operation = f\"({operation})\"\n",
    "    return do_math(operation)\n",
    "\n",
    "def solve_homework(inputs, part1=True):\n",
    "    if part1:\n",
    "        return sum(do_math(op) for op in inputs)\n",
    "    else:\n",
    "        return sum(do_advanced_math(op) for op in inputs)"
   ]
  },
  {
   "cell_type": "code",
   "execution_count": 2,
   "metadata": {},
   "outputs": [
    {
     "name": "stdout",
     "output_type": "stream",
     "text": [
      "The solution of the homework is 3159145843816\n",
      "The solution of the advanced homework is 55699621957369\n"
     ]
    }
   ],
   "source": [
    "with open('inputs/day18.txt', 'r') as f:\n",
    "    inputs = f.read().splitlines()\n",
    "\n",
    "print(f\"The solution of the homework is {solve_homework(inputs)}\")\n",
    "print(f\"The solution of the advanced homework is {solve_homework(inputs, False)}\")"
   ]
  }
 ],
 "metadata": {
  "kernelspec": {
   "display_name": "Python 3",
   "language": "python",
   "name": "python3"
  },
  "language_info": {
   "codemirror_mode": {
    "name": "ipython",
    "version": 3
   },
   "file_extension": ".py",
   "mimetype": "text/x-python",
   "name": "python",
   "nbconvert_exporter": "python",
   "pygments_lexer": "ipython3",
   "version": "3.8.5"
  }
 },
 "nbformat": 4,
 "nbformat_minor": 4
}
