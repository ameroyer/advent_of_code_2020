{
 "cells": [
  {
   "cell_type": "markdown",
   "metadata": {},
   "source": [
    "# 🎄 [Day 3](https://adventofcode.com/2020/day/3)"
   ]
  },
  {
   "cell_type": "code",
   "execution_count": 1,
   "metadata": {},
   "outputs": [],
   "source": [
    "def parse_forest(inputs):\n",
    "    return [[int(c == '#')  for c in line] \n",
    "            for line in inputs]\n",
    "    \n",
    "\n",
    "def slide(forest, slope_right=3, slope_down=1):\n",
    "    \"\"\"Compute number of trees on the slide path\"\"\"\n",
    "    x, y = 0, 0\n",
    "    num_trees = 0\n",
    "    num_cols = len(forest[0])\n",
    "    while y < len(forest):\n",
    "        num_trees += forest[y][x % num_cols]\n",
    "        x += slope_right\n",
    "        y += slope_down\n",
    "    return num_trees\n",
    "    \n",
    "    \n",
    "from functools import reduce\n",
    "def slide_all_the_way(forest):\n",
    "    slopes = [(1, 1), (3, 1), (5, 1), (7, 1), (1, 2)]\n",
    "    return reduce(lambda a, b: a * b,\n",
    "                  [slide(forest, r, d) for (r, d) in slopes])"
   ]
  },
  {
   "cell_type": "code",
   "execution_count": 2,
   "metadata": {},
   "outputs": [
    {
     "name": "stdout",
     "output_type": "stream",
     "text": [
      "We only hit 254 trees on the (3, 1) slope !\n",
      "The product of all the trees we crashed into on  these slopes is 1666768320\n"
     ]
    }
   ],
   "source": [
    "with open('inputs/day03.txt', 'r') as f:\n",
    "    inputs = f.read().splitlines()\n",
    "forest = parse_forest(inputs)\n",
    "\n",
    "print(f\"We only hit {slide(forest, 3, 1)} trees on the (3, 1) slope !\")\n",
    "print(f\"The product of all the trees we crashed into on  these slopes is {slide_all_the_way(forest)}\")"
   ]
  },
  {
   "cell_type": "code",
   "execution_count": 4,
   "metadata": {},
   "outputs": [
    {
     "data": {
      "text/html": [
       "<center><br>Hit <b>63</b> trees!<br><img src='day03.gif?1'></center>"
      ],
      "text/plain": [
       "<IPython.core.display.HTML object>"
      ]
     },
     "metadata": {},
     "output_type": "display_data"
    }
   ],
   "source": [
    "## Adding a bit of animation because sliding is fun\n",
    "import numpy as np\n",
    "from matplotlib import pyplot as plt\n",
    "from PIL import Image\n",
    "tree_img = Image.open('./resources/Items/Fruits/Cherries.png')\n",
    "tree_img = np.asarray(tree_img.crop((0, 0, 32, 32)), dtype=np.uint8)[:, :, :3]\n",
    "empty_img = np.zeros((32, 32, 3), dtype=np.uint8)\n",
    "\n",
    "def mark(img):\n",
    "    marked_img = np.array(img)\n",
    "    marked_img[0, :] = 255\n",
    "    marked_img[:, 0] = 255\n",
    "    marked_img[-1, :] = 255\n",
    "    marked_img[:, -1] = 255\n",
    "    return marked_img\n",
    "\n",
    "def display_frame(forest, i, j, n, mark_xy=None):\n",
    "    \"\"\"Display forest in square [i + n, j + n] + add a frame around position mark_xy\"\"\"\n",
    "    num_cols = len(forest[0])\n",
    "    imgs = np.concatenate([\n",
    "        np.concatenate([(mark(tree_img) if mark_xy and xi == mark_xy[0] and xj == mark_xy[1]\n",
    "                         else tree_img) \n",
    "                        if (i + xi < len(forest) and \n",
    "                            forest[i + xi][(j + xj) % num_cols])\n",
    "                        else (mark(empty_img) if mark_xy and xi == mark_xy[0] and xj == mark_xy[1]\n",
    "                              else empty_img)\n",
    "                        for xj in range(n)], axis=1)\n",
    "        for xi in range(n)], axis=0)\n",
    "    return Image.fromarray(imgs)\n",
    "    \n",
    "\n",
    "def slide_with_anim(forest, slope_right=3, slope_down=1, n=5):\n",
    "    \"\"\"Slide function, but this time with animation\"\"\"\n",
    "    x, y = 0, 0\n",
    "    num_trees = 0\n",
    "    num_cols = len(forest[0])\n",
    "    num_steps = max(slope_right, slope_down)\n",
    "    imgs = []\n",
    "    while y < len(forest):\n",
    "        # add next frames\n",
    "        for frame in range(num_steps):\n",
    "            imgs.append(display_frame(forest, x, y, n, mark_xy=(\n",
    "                int(frame * slope_down / num_steps), int(frame * slope_right / num_steps))))\n",
    "        # Update next position\n",
    "        num_trees += forest[y][x % num_cols]\n",
    "        x += slope_right\n",
    "        y += slope_down\n",
    "\n",
    "    imgs[0].save(fp=\"day03.gif\", format='GIF', append_images=imgs[1:],\n",
    "                 save_all=True, duration=200, loop=0)\n",
    "    return num_trees\n",
    "\n",
    "\n",
    "from IPython.display import HTML\n",
    "num_trees = slide_with_anim(forest, 1, 1)\n",
    "widget = HTML(f\"<center><br>Hit <b>{num_trees}</b> trees!<br><img src='day03.gif'></center>\")\n",
    "display(widget)"
   ]
  }
 ],
 "metadata": {
  "kernelspec": {
   "display_name": "Python 3",
   "language": "python",
   "name": "python3"
  },
  "language_info": {
   "codemirror_mode": {
    "name": "ipython",
    "version": 3
   },
   "file_extension": ".py",
   "mimetype": "text/x-python",
   "name": "python",
   "nbconvert_exporter": "python",
   "pygments_lexer": "ipython3",
   "version": "3.8.5"
  }
 },
 "nbformat": 4,
 "nbformat_minor": 4
}
