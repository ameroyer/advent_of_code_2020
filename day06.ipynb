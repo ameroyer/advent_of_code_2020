{
 "cells": [
  {
   "cell_type": "markdown",
   "metadata": {},
   "source": [
    "# ☃️ [Day 6](https://adventofcode.com/2020/day/6)"
   ]
  },
  {
   "cell_type": "code",
   "execution_count": 8,
   "metadata": {},
   "outputs": [],
   "source": [
    "def count_yes_answers_any(groups):\n",
    "    \"\"\"Even though the correct answer on customs form is always no :)\"\"\"\n",
    "    count = 0\n",
    "    for group in groups.split('\\n\\n'):\n",
    "        answers = [0] * 26\n",
    "        for line in group.splitlines():\n",
    "            for c in line:\n",
    "                answers[ord(c) - ord('a')] = 1\n",
    "        count += sum(answers)\n",
    "    return count\n",
    "\n",
    "\n",
    "def count_yes_answers_every(groups):\n",
    "    count = 0\n",
    "    for group in groups.split('\\n\\n'):\n",
    "        answers = [0] * 26\n",
    "        n = 0\n",
    "        for line in group.splitlines():\n",
    "            n += 1\n",
    "            for c in line:\n",
    "                answers[ord(c) - ord('a')] += 1\n",
    "        count += sum(int(a == n) for a in answers)\n",
    "    return count"
   ]
  },
  {
   "cell_type": "code",
   "execution_count": 10,
   "metadata": {},
   "outputs": [
    {
     "name": "stdout",
     "output_type": "stream",
     "text": [
      "The sum of for answers that anyome agrees on is 6335\n",
      "The sum of counts for answers that everyone agrees on is 3392\n"
     ]
    },
    {
     "data": {
      "text/plain": [
       "6"
      ]
     },
     "execution_count": 10,
     "metadata": {},
     "output_type": "execute_result"
    }
   ],
   "source": [
    "with open('inputs/day06.txt', 'r') as f:\n",
    "    inputs = f.read()\n",
    "    \n",
    "print(f\"The sum of for answers that anyome agrees on is {count_yes_answers(inputs)}\")\n",
    "print(f\"The sum of counts for answers that everyone agrees on is {count_yes_answers_every(inputs)}\")"
   ]
  },
  {
   "cell_type": "markdown",
   "metadata": {},
   "source": [
    "### Vizualisation with an attempt at using [pixelhouse](https://github.com/thoppe/pixelhouse)"
   ]
  },
  {
   "cell_type": "code",
   "execution_count": 3,
   "metadata": {},
   "outputs": [],
   "source": [
    "from PIL import Image\n",
    "import pixelhouse as ph\n",
    "_, passports = passport_check_format(inputs)"
   ]
  },
  {
   "cell_type": "code",
   "execution_count": 4,
   "metadata": {},
   "outputs": [],
   "source": [
    "def draw_passport(p, save=False):\n",
    "    pal = ph.palette(1)\n",
    "    # Basic scale unit, 1 = width / extent\n",
    "    extent = 5\n",
    "    # Main canvas\n",
    "    canvas = ph.Canvas(400, 250, shift=0, extent=extent, bg=pal[-1])\n",
    "    \n",
    "    # Draw Photo frame\n",
    "    offset = 1\n",
    "    canvas += ph.rectangle(- 4.5, -2.5, -0.5, 2.5, color=pal[-3], thickness=-1)\n",
    "    canvas += ph.rectangle(- 4.5, -2.5, -0.5, 2.5, color=pal[-2], thickness=0.2)\n",
    "    \n",
    "    # Determine y coordinate based on height\n",
    "    min_y, max_y = 0.9, 1.2\n",
    "    if p['hgt'][-2:] == 'cm':\n",
    "        y = min_y + (max_y - min_y) * (int(p['hgt'][:-2]) - 150) / (193 - 150)\n",
    "    else:\n",
    "        y = min_y + (max_y - min_y) * (int(p['hgt'][:-2]) - 59) / (76 - 59)\n",
    "        \n",
    "    # Draw hair (back panel)\n",
    "    canvas += ph.circle(-2.5, y + 0.3, r=0.85, color=p['hcl'])\n",
    "    canvas += ph.rectangle(-3.35, y + 0.4, -1.65, y - 0.8, thickness=-1, color=p['hcl'])\n",
    "    \n",
    "    # Draw basic character head + body\n",
    "    canvas += ph.circle(-2.5, y, r=0.8, color=\"black\")\n",
    "    r_body = 1\n",
    "    canvas += ph.circle(-2.5, y - 0.9 - r_body, r=r_body, color=\"black\")\n",
    "    canvas += ph.rectangle(-2.5 - r_body, y - r_body - 0.9, \n",
    "                           -2.5  + r_body, -2.3, thickness=-1, color=\"black\")\n",
    "    \n",
    "    # Draw hair bangs (front panel)\n",
    "    xmin, xmax = -3.2, -1.8\n",
    "    step = (xmax - xmin) / 3\n",
    "    for x in range(3):\n",
    "        canvas += ph.rectangle(xmin + x * step, y + 0.8,\n",
    "                               xmin + (x + 1) * step - (0.1 if x < 2 else 0), y + 0.4,\n",
    "                               thickness=-1, color=p['hcl'])\n",
    "        \n",
    "    # Draw eyes\n",
    "    eye_color = ('darkgoldenrod' if p['ecl'] == 'amb' else\n",
    "                 'mediumturquoise' if p['ecl'] == 'blu' else\n",
    "                 'sienna' if p['ecl'] == 'brn' else\n",
    "                 'lightgray' if p['ecl'] == 'gry' else\n",
    "                 'springgreen' if p['ecl'] == 'grn' else\n",
    "                 'sandybrown' if p['ecl'] == 'hzl' else\n",
    "                 'mediumorchid' if p['ecl'] == 'oth' else None)\n",
    "    for x in [-1, 1]:\n",
    "        canvas += ph.circle(-2.5 + x * 0.3, y, r=0.12, color=eye_color)\n",
    "        canvas += ph.circle(-2.5 + x * 0.3 - 0.01, y + 0.05, r=0.05, color='white')\n",
    "        \n",
    "    # Draw height bar / text\n",
    "    canvas += ph.line(-2.5, y + 1.25, 1, y + 1.25, color='white', thickness=0.1)\n",
    "    canvas += ph.text(p['hgt'], x=0.5, y= y + 1.55, font_size=0.35, color='white')\n",
    "        \n",
    "    # Draw text information on the right\n",
    "    x = 2.5\n",
    "    ystart = 1.5\n",
    "    yshift = 0.6\n",
    "    gap = 0.3\n",
    "    canvas += ph.text(f\"Country: {p.get('cid', '???')}\", x=x, y=ystart,\n",
    "                      font_size=0.45, color='white')\n",
    "    canvas += ph.text(f\"Age: {2020 - int(p['byr'])}\", x=x, y=ystart - yshift,\n",
    "                      font_size=0.45, color='white')\n",
    "    canvas += ph.text(f\"ID: {p['pid']}\", x=x, y=ystart - 2 * yshift - gap,\n",
    "                      font_size=0.45, color='white')\n",
    "    canvas += ph.text(f\"Issued: {p['iyr']}\", x=x, y=ystart - 3 * yshift - gap,\n",
    "                      font_size=0.45, color='white')\n",
    "    canvas += ph.text(f\"End: {p['eyr']}\", x=x, y=ystart - 4 * yshift - gap,\n",
    "                      font_size=0.45, color='white')\n",
    "    # Save if needed\n",
    "    if save:\n",
    "        canvas.save(\"viz/day04.png\")\n",
    "    return Image.fromarray(canvas.img)\n",
    "        \n",
    "    \n",
    "def draw_pasports_anim(ps):\n",
    "    imgs = [draw_passport(p, save=False) for p in ps]\n",
    "    imgs[0].save(fp=\"viz/day04.gif\", format='GIF', append_images=imgs[1:],\n",
    "                 save_all=True, duration=350, loop=0)\n",
    "    \n",
    "    \n",
    "draw_passport(passports[1], save=True)\n",
    "draw_pasports_anim(passports)"
   ]
  },
  {
   "cell_type": "markdown",
   "metadata": {},
   "source": [
    "**Example passport generated**\n",
    "\n",
    "![Passport example](viz/day04.png?2)\n",
    "\n",
    "**Animation of all valid passports**\n",
    "\n",
    "![Passport example](viz/day04.gif?2)"
   ]
  }
 ],
 "metadata": {
  "kernelspec": {
   "display_name": "Python 3",
   "language": "python",
   "name": "python3"
  },
  "language_info": {
   "codemirror_mode": {
    "name": "ipython",
    "version": 3
   },
   "file_extension": ".py",
   "mimetype": "text/x-python",
   "name": "python",
   "nbconvert_exporter": "python",
   "pygments_lexer": "ipython3",
   "version": "3.8.5"
  }
 },
 "nbformat": 4,
 "nbformat_minor": 4
}
