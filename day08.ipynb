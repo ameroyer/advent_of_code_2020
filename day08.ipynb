{
 "cells": [
  {
   "cell_type": "markdown",
   "metadata": {},
   "source": [
    "# ✨ [Day 8](https://adventofcode.com/2020/day/8)"
   ]
  },
  {
   "cell_type": "code",
   "execution_count": 1,
   "metadata": {},
   "outputs": [],
   "source": [
    "def detect_loop(program):\n",
    "    op, acc = 0, 0\n",
    "    seen = [False] * len(program)\n",
    "    while 0 <= op < len(program):\n",
    "        # Loop detected\n",
    "        if seen[op]:\n",
    "            return acc, True\n",
    "        seen[op] = True\n",
    "        # Run program\n",
    "        inst, param = program[op].split()\n",
    "        if inst == 'nop':\n",
    "            op += 1\n",
    "        elif inst == 'acc':\n",
    "            acc += int(param)\n",
    "            op += 1\n",
    "        elif inst == 'jmp':\n",
    "            op += int(param)\n",
    "        else:\n",
    "            raise ValueError\n",
    "    return acc, False\n",
    "\n",
    "\n",
    "def repair_loop(program):\n",
    "    # Let's do some reverse engineering\n",
    "    # in order to reach op == len(program)\n",
    "    # we either to skip (nop/acc) until we reach it\n",
    "    # or jump to it\n",
    "    \n",
    "    ## First, try to replace a nop by a jmp\n",
    "    for i, line in enumerate(program[::-1]):\n",
    "        inst, param = line.split()\n",
    "        loop = True\n",
    "        ## Trying to replace nop by a direct jump\n",
    "        ## Not sure if complete or if the second test should be ignored\n",
    "        if inst == 'nop' and int(param) == i + 1:\n",
    "            p = [x for x in program]\n",
    "            p[-i - 1] = f'jmp {param}'\n",
    "            acc, loop = detect_loop(p)\n",
    "        ## Try to replace jmp by a nop\n",
    "        if inst == 'jmp':\n",
    "            p = [x for x in program]\n",
    "            p[-i - 1] = f'nop {param}'\n",
    "            acc, loop = detect_loop(p)\n",
    "        ## Return\n",
    "        if not loop:\n",
    "            print(f\"Fix complete. Replaced line {len(program) - i - 1} from {inst} to {p[-i - 1]} !\")\n",
    "            return acc\n",
    "            \n",
    "            \n",
    "    "
   ]
  },
  {
   "cell_type": "code",
   "execution_count": 2,
   "metadata": {},
   "outputs": [
    {
     "name": "stdout",
     "output_type": "stream",
     "text": [
      "The accumulator contains 1654 before the first loop starts.\n",
      "\n",
      "Fix complete. Replaced line 223 from jmp to nop -145 !\n",
      "The accumulator contains 833 after the fix.\n"
     ]
    }
   ],
   "source": [
    "with open('inputs/day08.txt', 'r') as f:\n",
    "    inputs = f.read().splitlines()\n",
    "    \n",
    "print(f\"The accumulator contains {detect_loop(inputs)[0]} before the first loop starts.\\n\")\n",
    "print(f\"The accumulator contains {repair_loop(inputs)} after the fix.\")"
   ]
  }
 ],
 "metadata": {
  "kernelspec": {
   "display_name": "Python 3",
   "language": "python",
   "name": "python3"
  },
  "language_info": {
   "codemirror_mode": {
    "name": "ipython",
    "version": 3
   },
   "file_extension": ".py",
   "mimetype": "text/x-python",
   "name": "python",
   "nbconvert_exporter": "python",
   "pygments_lexer": "ipython3",
   "version": "3.8.5"
  }
 },
 "nbformat": 4,
 "nbformat_minor": 4
}
