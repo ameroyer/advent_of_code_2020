{
 "cells": [
  {
   "cell_type": "markdown",
   "metadata": {},
   "source": [
    "# 🏂 [Day 17](https://adventofcode.com/2020/day/17)"
   ]
  },
  {
   "cell_type": "code",
   "execution_count": 1,
   "metadata": {},
   "outputs": [],
   "source": [
    "import numpy as np\n",
    "\n",
    "def parse(inputs):\n",
    "    return np.array([[1 if x == '#' else 0 for x in line] \n",
    "                         for line in inputs])\n",
    "\n",
    "def conv_multid(arr, f):\n",
    "    \"\"\"Day 11, but better\"\"\"\n",
    "    ks = f.shape\n",
    "    kls = [int(np.floor(k // 2)) for k in ks]\n",
    "    conv_out = np.zeros_like(arr)\n",
    "    # Padding\n",
    "    arr_p = np.pad(arr, [(kl, k - kl) for kl, k in zip(kls, ks)])\n",
    "    for index in range(conv_out.size):\n",
    "        indices = np.unravel_index(index, conv_out.shape)\n",
    "        conv_out[indices] = np.sum(arr_p[tuple(slice(c, c + kc) for kc, c in zip(ks, indices))] * f)\n",
    "    return conv_out\n",
    "    \n",
    "\n",
    "def game_of_life_nd(arr, n=3, num_cycles=6):\n",
    "    # Filter for convolution\n",
    "    f = np.ones((3,) * n)\n",
    "    f[((1,) * n)] = 0\n",
    "    \n",
    "    # Expand outer dimensions\n",
    "    levels = np.array(arr)\n",
    "    for _ in range(n - 2):\n",
    "        levels = np.expand_dims(levels, 0)\n",
    "        \n",
    "    # Play the game\n",
    "    for _ in range(num_cycles):\n",
    "        # Check pad for potential new levels (outer dimensions)\n",
    "        pad_down = int(np.sum(levels[0]) >= 3)\n",
    "        pad_up = int(np.sum(levels[-1]) >= 3)\n",
    "        pads = ((pad_down, pad_up),) + ((1, 1),) * (n - 1)\n",
    "        levels = np.pad(levels, pads)\n",
    "        # Update based on game's rules\n",
    "        neighb = conv_multid(levels, f)\n",
    "        levels = (levels * ((neighb == 2) | (neighb == 3)) + \n",
    "                  (1 - levels) * (neighb == 3))\n",
    "    return np.sum(levels)\n",
    "    "
   ]
  },
  {
   "cell_type": "code",
   "execution_count": 2,
   "metadata": {},
   "outputs": [
    {
     "name": "stdout",
     "output_type": "stream",
     "text": [
      "There are 230 alive cubes after 6 rounds of the 3D game of life\n",
      "There are 1600 alive cubes after 6 rounds of the 4D game of life\n",
      "\n",
      "CPU times: user 2.93 s, sys: 127 ms, total: 3.05 s\n",
      "Wall time: 2.87 s\n"
     ]
    }
   ],
   "source": [
    "%%time\n",
    "with open('inputs/day17.txt', 'r') as f:\n",
    "    inputs = f.read().splitlines()\n",
    "    levels = parse(inputs)\n",
    "\n",
    "print(f\"There are {game_of_life_nd(levels, 3, 6)} alive cubes after 6 rounds of the 3D game of life\")\n",
    "print(f\"There are {game_of_life_nd(levels, 4, 6)} alive cubes after 6 rounds of the 4D game of life\")\n",
    "print()"
   ]
  }
 ],
 "metadata": {
  "kernelspec": {
   "display_name": "Python 3",
   "language": "python",
   "name": "python3"
  },
  "language_info": {
   "codemirror_mode": {
    "name": "ipython",
    "version": 3
   },
   "file_extension": ".py",
   "mimetype": "text/x-python",
   "name": "python",
   "nbconvert_exporter": "python",
   "pygments_lexer": "ipython3",
   "version": "3.8.5"
  }
 },
 "nbformat": 4,
 "nbformat_minor": 4
}
