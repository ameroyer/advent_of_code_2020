{
 "cells": [
  {
   "cell_type": "markdown",
   "metadata": {},
   "source": [
    "# 🍪 [Day 21](https://adventofcode.com/2020/day/21)"
   ]
  },
  {
   "cell_type": "code",
   "execution_count": 1,
   "metadata": {},
   "outputs": [],
   "source": [
    "from collections import defaultdict\n",
    "\n",
    "def safe_ingredients(food):\n",
    "    # If two food items have the same allergen,\n",
    "    # they need to have at least one ingredient in common\n",
    "    allergen_to_ingredients = defaultdict(lambda: [])\n",
    "    can_cause = defaultdict(lambda: [])\n",
    "    ingredient_counts = defaultdict(lambda: 0) # for part1 result\n",
    "    for line in food:\n",
    "        ingredients, allergens = line.split(' (contains ')\n",
    "        ingredients = ingredients.split()\n",
    "        allergens = allergens[:-1].split(', ')\n",
    "        for a in allergens:\n",
    "            allergen_to_ingredients[a].append(ingredients)\n",
    "            for i in ingredients:\n",
    "                can_cause[i].append(a)\n",
    "        for i in ingredients:\n",
    "            ingredient_counts[i] += 1\n",
    "    can_cause = {k: set(v) for k, v in can_cause.items()}\n",
    "                \n",
    "    # Each ingredient starts with a budget = how many allergens it can cause\n",
    "    budget = {k: len(v) for k, v in can_cause.items()}\n",
    "    # if it doesn't appear in the intersection list of a given\n",
    "    # allergen, we remove it from its budget\n",
    "    # Ingredient with a 0 budget are the ones we're looking for\n",
    "    candidates = defaultdict(lambda: [])\n",
    "    for a, dishes in allergen_to_ingredients.items():\n",
    "        all_candidates = set([x for d in dishes for x in d])\n",
    "        strong_candidates = set(dishes[0])\n",
    "        for d in dishes[1:]:\n",
    "            strong_candidates = strong_candidates.intersection(d)\n",
    "        # Resolve constraint for part1\n",
    "        for i in all_candidates.difference(strong_candidates):\n",
    "            budget[i] -= 1\n",
    "        # Store strong candidates to solve part2\n",
    "        for s in strong_candidates:\n",
    "            candidates[s].append(a)\n",
    "            \n",
    "    # Return their number of occurrences for part1\n",
    "    safe_ingredients = [k for k, v in budget.items() if v == 0]\n",
    "    num_safe_occ = sum(ingredient_counts[k] for k in safe_ingredients)\n",
    "    \n",
    "    # Resolve constraints for part2\n",
    "    assignment = {k: None for k in allergen_to_ingredients}\n",
    "    while len(candidates):\n",
    "        c = min(candidates.keys(), key=lambda c: len(candidates[c]))\n",
    "        assert len(candidates[c]) == 1\n",
    "        assignment[candidates[c][0]] = c \n",
    "        # Update candidates with this satisfied constraint\n",
    "        del candidates[c]\n",
    "        candidates = {k: [x for x in v if assignment[x] is None] \n",
    "                      for k, v in candidates.items()}\n",
    "    assignment = ','.join(assignment[k] for k in sorted(assignment.keys()))\n",
    "    \n",
    "    return num_safe_occ, assignment"
   ]
  },
  {
   "cell_type": "code",
   "execution_count": 2,
   "metadata": {},
   "outputs": [
    {
     "name": "stdout",
     "output_type": "stream",
     "text": [
      "There safe ingredients occur 2659 times.\n",
      "The sorted list of dangerous ingredients is: rcqb,cltx,nrl,qjvvcvz,tsqpn,xhnk,tfqsb,zqzmzl\n"
     ]
    }
   ],
   "source": [
    "with open('inputs/day21.txt', 'r') as f:\n",
    "    inputs = f.read().splitlines()\n",
    "\n",
    "num_safe_occ, assignment = safe_ingredients(inputs)\n",
    "print(f\"There safe ingredients occur {num_safe_occ} times.\")\n",
    "print(f\"The sorted list of dangerous ingredients is: {assignment}\")"
   ]
  }
 ],
 "metadata": {
  "kernelspec": {
   "display_name": "Python 3",
   "language": "python",
   "name": "python3"
  },
  "language_info": {
   "codemirror_mode": {
    "name": "ipython",
    "version": 3
   },
   "file_extension": ".py",
   "mimetype": "text/x-python",
   "name": "python",
   "nbconvert_exporter": "python",
   "pygments_lexer": "ipython3",
   "version": "3.8.5"
  }
 },
 "nbformat": 4,
 "nbformat_minor": 4
}
