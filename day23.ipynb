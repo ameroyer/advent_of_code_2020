{
 "cells": [
  {
   "cell_type": "markdown",
   "metadata": {},
   "source": [
    "# 💤 [Day 23](https://adventofcode.com/2020/day/23)"
   ]
  },
  {
   "cell_type": "code",
   "execution_count": 1,
   "metadata": {},
   "outputs": [],
   "source": [
    "class Cup:\n",
    "    def __init__(self, v):\n",
    "        self.value = v\n",
    "        self.nxt = None\n",
    "        \n",
    "    def read(self, limit=-1):\n",
    "        return f'{self.value}{self.nxt.read_until(self.value, 0, limit)}'\n",
    "        \n",
    "    def read_until(self, start=None, index=0, limit=-1):\n",
    "        if self.value == start or index == limit:\n",
    "            return ''\n",
    "        elif self.nxt is None:\n",
    "            return str(self.value)\n",
    "        else:\n",
    "            return f'{self.value}{self.nxt.read_until(start, index+1, limit)}'\n",
    "        \n",
    "        \n",
    "def play_one(cups, current_cup, min_cup, max_cup):\n",
    "    \"\"\"One crab move\"\"\"\n",
    "    cup = cups[current_cup]\n",
    "    subchain_start = cup.nxt\n",
    "\n",
    "    # Pick up cups\n",
    "    taken = []\n",
    "    for _ in range(3):\n",
    "        v = cup.nxt.value\n",
    "        cup.nxt = cup.nxt.nxt\n",
    "        taken.append(v)\n",
    "\n",
    "    # Find destination\n",
    "    destination_cup = current_cup - 1\n",
    "    while destination_cup in taken or destination_cup not in cups:\n",
    "        if destination_cup < min_cup:\n",
    "            destination_cup = max_cup\n",
    "        else:\n",
    "            destination_cup -= 1\n",
    "\n",
    "    # Place cups\n",
    "    subchain_end = subchain_start\n",
    "    for _ in range(2):\n",
    "        subchain_end = subchain_end.nxt\n",
    "    subchain_end.nxt = cups[destination_cup].nxt\n",
    "    cups[destination_cup].nxt = subchain_start\n",
    "\n",
    "    # Nxt\n",
    "    current_cup = cups[current_cup].nxt.value\n",
    "    return current_cup\n",
    "\n",
    "\n",
    "def play_cup_games(inputs, num_moves=10):\n",
    "    \n",
    "    # Initialize cups\n",
    "    cups = {}\n",
    "    cups[inputs[0]] = Cup(inputs[0])\n",
    "    min_cup, max_cup = float('inf'), 0\n",
    "    for i, v in enumerate(inputs[1:], 1):\n",
    "        cups[v] = Cup(v)\n",
    "        cups[inputs[i - 1]].nxt = cups[v]\n",
    "        min_cup = min(min_cup, v)\n",
    "        max_cup = max(max_cup, v)\n",
    "        \n",
    "    # Close circle\n",
    "    cups[inputs[-1]].nxt = cups[inputs[0]]\n",
    "    \n",
    "    # Play the game\n",
    "    current_cup = inputs[0]\n",
    "    for _ in range(num_moves):\n",
    "        current_cup = play_one(cups, current_cup, min_cup, max_cup)\n",
    "        \n",
    "    # Read the last chain\n",
    "    return cups[1].read(limit=10), cups[1].nxt.value * cups[1].nxt.nxt.value"
   ]
  },
  {
   "cell_type": "code",
   "execution_count": 2,
   "metadata": {},
   "outputs": [
    {
     "name": "stdout",
     "output_type": "stream",
     "text": [
      "The final cup order in the minigame is 29385746\n",
      "The result of playing with the real rule is 680435423892\n",
      "\n",
      "CPU times: user 31.3 s, sys: 87.1 ms, total: 31.3 s\n",
      "Wall time: 31.4 s\n"
     ]
    }
   ],
   "source": [
    "%%time\n",
    "inputs = list(map(int, '712643589'))\n",
    "\n",
    "print(f\"The final cup order in the minigame is {play_cup_games(inputs, 100)[0][1:]}\")\n",
    "print(\"The result of playing with the real rule is \"\n",
    "      f\"{play_cup_games(inputs + list(range(10, int(1e6 + 1))), num_moves=10000000)[1]}\\n\")"
   ]
  },
  {
   "cell_type": "code",
   "execution_count": null,
   "metadata": {},
   "outputs": [],
   "source": []
  }
 ],
 "metadata": {
  "kernelspec": {
   "display_name": "Python 3",
   "language": "python",
   "name": "python3"
  },
  "language_info": {
   "codemirror_mode": {
    "name": "ipython",
    "version": 3
   },
   "file_extension": ".py",
   "mimetype": "text/x-python",
   "name": "python",
   "nbconvert_exporter": "python",
   "pygments_lexer": "ipython3",
   "version": "3.8.5"
  }
 },
 "nbformat": 4,
 "nbformat_minor": 4
}
