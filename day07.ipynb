{
 "cells": [
  {
   "cell_type": "markdown",
   "metadata": {},
   "source": [
    "# ❄️ [Day 7](https://adventofcode.com/2020/day/7)"
   ]
  },
  {
   "cell_type": "code",
   "execution_count": 61,
   "metadata": {},
   "outputs": [],
   "source": [
    "class Bag:\n",
    "    \"\"\"A basic Bag class\"\"\"\n",
    "    \n",
    "    def __init__(self, color):\n",
    "        self.color = color\n",
    "        self.containers = []\n",
    "        self.contenants = []\n",
    "        \n",
    "    def find_num_ancestors(self, acc):\n",
    "        \"\"\"Find number of bags that can contain self\"\"\"\n",
    "        for c in self.containers:\n",
    "            if c.color not in acc:\n",
    "                acc.append(c.color)\n",
    "            c.find_num_ancestors(acc)\n",
    "        return len(acc)\n",
    "    \n",
    "    def find_num_descendants(self):\n",
    "        \"\"\"Find number of bags that can contain self\"\"\"\n",
    "        acc = 0\n",
    "        for n, c in self.contenants:\n",
    "            acc += n * (c.find_num_descendants() + 1)\n",
    "        return acc\n",
    "\n",
    "\n",
    "def build_bag_graph(lines):\n",
    "    nodes = {}\n",
    "    for line in lines:\n",
    "        aux = line.split (' bags contain ')\n",
    "        # Container\n",
    "        if aux[0] not in nodes:\n",
    "            nodes[aux[0]] = Bag(aux[0])\n",
    "        # Contenants\n",
    "        for c in aux[1].split(', '):\n",
    "            number, color = c.split(' ', 1)\n",
    "            color = color.rsplit(' ', 1)[0]\n",
    "            # no bags\n",
    "            if number == 'no':\n",
    "                continue\n",
    "            # otherwise add to contenants\n",
    "            if color not in nodes:\n",
    "                nodes[color] = Bag(color)\n",
    "            nodes[color].containers.append(nodes[aux[0]])\n",
    "            nodes[aux[0]].contenants.append((int(number), nodes[color]))\n",
    "    return nodes\n",
    "            \n",
    "def where_do_i_fit_my_shiny_bag(lines):\n",
    "    return build_bag_graph(lines)['shiny gold'].find_num_ancestors([])\n",
    "\n",
    "def how_heavy_is_my_shiny_bag(lines):\n",
    "    return build_bag_graph(lines)['shiny gold'].find_num_descendants()"
   ]
  },
  {
   "cell_type": "code",
   "execution_count": 63,
   "metadata": {},
   "outputs": [
    {
     "name": "stdout",
     "output_type": "stream",
     "text": [
      "I can fit my trendy shiny gold bag in 112 color bags\n",
      "Surprisingly, my little shiny bag contains 6260 other bags!\n"
     ]
    }
   ],
   "source": [
    "with open('inputs/day07.txt', 'r') as f:\n",
    "    inputs = f.read().splitlines()\n",
    "    \n",
    "    \n",
    "print(f\"I can fit my trendy shiny gold bag in {where_do_i_fit_my_shiny_bag(inputs)} color bags\")\n",
    "print(f\"Surprisingly, my little shiny bag contains {how_heavy_is_my_shiny_bag(inputs)} other bags!\")"
   ]
  },
  {
   "cell_type": "markdown",
   "metadata": {},
   "source": [
    "### Vizualisation with an attempt at using [pixelhouse](https://github.com/thoppe/pixelhouse)"
   ]
  },
  {
   "cell_type": "code",
   "execution_count": 3,
   "metadata": {},
   "outputs": [],
   "source": [
    "from PIL import Image\n",
    "import pixelhouse as ph\n",
    "_, passports = passport_check_format(inputs)"
   ]
  },
  {
   "cell_type": "code",
   "execution_count": 4,
   "metadata": {},
   "outputs": [],
   "source": [
    "def draw_passport(p, save=False):\n",
    "    pal = ph.palette(1)\n",
    "    # Basic scale unit, 1 = width / extent\n",
    "    extent = 5\n",
    "    # Main canvas\n",
    "    canvas = ph.Canvas(400, 250, shift=0, extent=extent, bg=pal[-1])\n",
    "    \n",
    "    # Draw Photo frame\n",
    "    offset = 1\n",
    "    canvas += ph.rectangle(- 4.5, -2.5, -0.5, 2.5, color=pal[-3], thickness=-1)\n",
    "    canvas += ph.rectangle(- 4.5, -2.5, -0.5, 2.5, color=pal[-2], thickness=0.2)\n",
    "    \n",
    "    # Determine y coordinate based on height\n",
    "    min_y, max_y = 0.9, 1.2\n",
    "    if p['hgt'][-2:] == 'cm':\n",
    "        y = min_y + (max_y - min_y) * (int(p['hgt'][:-2]) - 150) / (193 - 150)\n",
    "    else:\n",
    "        y = min_y + (max_y - min_y) * (int(p['hgt'][:-2]) - 59) / (76 - 59)\n",
    "        \n",
    "    # Draw hair (back panel)\n",
    "    canvas += ph.circle(-2.5, y + 0.3, r=0.85, color=p['hcl'])\n",
    "    canvas += ph.rectangle(-3.35, y + 0.4, -1.65, y - 0.8, thickness=-1, color=p['hcl'])\n",
    "    \n",
    "    # Draw basic character head + body\n",
    "    canvas += ph.circle(-2.5, y, r=0.8, color=\"black\")\n",
    "    r_body = 1\n",
    "    canvas += ph.circle(-2.5, y - 0.9 - r_body, r=r_body, color=\"black\")\n",
    "    canvas += ph.rectangle(-2.5 - r_body, y - r_body - 0.9, \n",
    "                           -2.5  + r_body, -2.3, thickness=-1, color=\"black\")\n",
    "    \n",
    "    # Draw hair bangs (front panel)\n",
    "    xmin, xmax = -3.2, -1.8\n",
    "    step = (xmax - xmin) / 3\n",
    "    for x in range(3):\n",
    "        canvas += ph.rectangle(xmin + x * step, y + 0.8,\n",
    "                               xmin + (x + 1) * step - (0.1 if x < 2 else 0), y + 0.4,\n",
    "                               thickness=-1, color=p['hcl'])\n",
    "        \n",
    "    # Draw eyes\n",
    "    eye_color = ('darkgoldenrod' if p['ecl'] == 'amb' else\n",
    "                 'mediumturquoise' if p['ecl'] == 'blu' else\n",
    "                 'sienna' if p['ecl'] == 'brn' else\n",
    "                 'lightgray' if p['ecl'] == 'gry' else\n",
    "                 'springgreen' if p['ecl'] == 'grn' else\n",
    "                 'sandybrown' if p['ecl'] == 'hzl' else\n",
    "                 'mediumorchid' if p['ecl'] == 'oth' else None)\n",
    "    for x in [-1, 1]:\n",
    "        canvas += ph.circle(-2.5 + x * 0.3, y, r=0.12, color=eye_color)\n",
    "        canvas += ph.circle(-2.5 + x * 0.3 - 0.01, y + 0.05, r=0.05, color='white')\n",
    "        \n",
    "    # Draw height bar / text\n",
    "    canvas += ph.line(-2.5, y + 1.25, 1, y + 1.25, color='white', thickness=0.1)\n",
    "    canvas += ph.text(p['hgt'], x=0.5, y= y + 1.55, font_size=0.35, color='white')\n",
    "        \n",
    "    # Draw text information on the right\n",
    "    x = 2.5\n",
    "    ystart = 1.5\n",
    "    yshift = 0.6\n",
    "    gap = 0.3\n",
    "    canvas += ph.text(f\"Country: {p.get('cid', '???')}\", x=x, y=ystart,\n",
    "                      font_size=0.45, color='white')\n",
    "    canvas += ph.text(f\"Age: {2020 - int(p['byr'])}\", x=x, y=ystart - yshift,\n",
    "                      font_size=0.45, color='white')\n",
    "    canvas += ph.text(f\"ID: {p['pid']}\", x=x, y=ystart - 2 * yshift - gap,\n",
    "                      font_size=0.45, color='white')\n",
    "    canvas += ph.text(f\"Issued: {p['iyr']}\", x=x, y=ystart - 3 * yshift - gap,\n",
    "                      font_size=0.45, color='white')\n",
    "    canvas += ph.text(f\"End: {p['eyr']}\", x=x, y=ystart - 4 * yshift - gap,\n",
    "                      font_size=0.45, color='white')\n",
    "    # Save if needed\n",
    "    if save:\n",
    "        canvas.save(\"viz/day04.png\")\n",
    "    return Image.fromarray(canvas.img)\n",
    "        \n",
    "    \n",
    "def draw_pasports_anim(ps):\n",
    "    imgs = [draw_passport(p, save=False) for p in ps]\n",
    "    imgs[0].save(fp=\"viz/day04.gif\", format='GIF', append_images=imgs[1:],\n",
    "                 save_all=True, duration=350, loop=0)\n",
    "    \n",
    "    \n",
    "draw_passport(passports[1], save=True)\n",
    "draw_pasports_anim(passports)"
   ]
  },
  {
   "cell_type": "markdown",
   "metadata": {},
   "source": [
    "**Example passport generated**\n",
    "\n",
    "![Passport example](viz/day04.png?2)\n",
    "\n",
    "**Animation of all valid passports**\n",
    "\n",
    "![Passport example](viz/day04.gif?2)"
   ]
  }
 ],
 "metadata": {
  "kernelspec": {
   "display_name": "Python 3",
   "language": "python",
   "name": "python3"
  },
  "language_info": {
   "codemirror_mode": {
    "name": "ipython",
    "version": 3
   },
   "file_extension": ".py",
   "mimetype": "text/x-python",
   "name": "python",
   "nbconvert_exporter": "python",
   "pygments_lexer": "ipython3",
   "version": "3.8.5"
  }
 },
 "nbformat": 4,
 "nbformat_minor": 4
}
