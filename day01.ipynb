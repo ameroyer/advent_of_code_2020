{
 "cells": [
  {
   "cell_type": "markdown",
   "metadata": {},
   "source": [
    "# 🎅 [Day 1](https://adventofcode.com/2020/day/1)"
   ]
  },
  {
   "cell_type": "code",
   "execution_count": 1,
   "metadata": {},
   "outputs": [],
   "source": [
    "def find_2sum(nums, target=2020, sort=True):\n",
    "    if sort:\n",
    "        nums = sorted(nums)\n",
    "    a = 0\n",
    "    b = len(nums) - 1\n",
    "    while a < b:\n",
    "        if nums[a] + nums[b] > target:\n",
    "            b -= 1\n",
    "        elif nums[a] + nums[b] == target:\n",
    "            return nums[a], nums[b]\n",
    "        else:\n",
    "            a += 1\n",
    "    return None\n",
    "            \n",
    "            \n",
    "def find_3sum(nums, target=2020):\n",
    "    nums = sorted(nums)\n",
    "    for i, c in enumerate(nums):\n",
    "        res = find_2sum(nums[i + 1:], target=2020 - c, sort=False)\n",
    "        if res is not None:\n",
    "            return c, res[0], res[1]"
   ]
  },
  {
   "cell_type": "code",
   "execution_count": 2,
   "metadata": {},
   "outputs": [
    {
     "name": "stdout",
     "output_type": "stream",
     "text": [
      "Found 618 + 1402 = 2020. The answer to part 1 is 866436\n",
      "Found 545 + 547 + 928 = 2020. The answer to part 2 is 276650720\n"
     ]
    }
   ],
   "source": [
    "with open('inputs/day01.txt', 'r') as f:\n",
    "    nums = list(map(int, f.read().splitlines()))\n",
    "    \n",
    "x, y = find_2sum(nums)\n",
    "print(f\"Found {x} + {y} = 2020. The answer to part 1 is {x * y}\")\n",
    "\n",
    "x, y,z = find_3sum(nums)\n",
    "print(f\"Found {x} + {y} + {z} = 2020. The answer to part 2 is {x * y * z}\")"
   ]
  }
 ],
 "metadata": {
  "kernelspec": {
   "display_name": "Python 3",
   "language": "python",
   "name": "python3"
  },
  "language_info": {
   "codemirror_mode": {
    "name": "ipython",
    "version": 3
   },
   "file_extension": ".py",
   "mimetype": "text/x-python",
   "name": "python",
   "nbconvert_exporter": "python",
   "pygments_lexer": "ipython3",
   "version": "3.8.5"
  }
 },
 "nbformat": 4,
 "nbformat_minor": 4
}
