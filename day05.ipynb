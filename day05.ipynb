{
 "cells": [
  {
   "cell_type": "markdown",
   "metadata": {},
   "source": [
    "# 🍰 [Day 5](https://adventofcode.com/2020/day/5)"
   ]
  },
  {
   "cell_type": "code",
   "execution_count": 1,
   "metadata": {},
   "outputs": [],
   "source": [
    "def parse(lines):\n",
    "    return [[1 if c in ['F', 'L'] else 0 for c in line] for line in lines]\n",
    "\n",
    "def binary_search(encoding, start, end):\n",
    "    \"\"\"Recursive function to get row or column from binary encoding\"\"\"\n",
    "    if len(encoding):\n",
    "        mid = (start + end) // 2\n",
    "        return binary_search(encoding[1:], \n",
    "                             start if encoding[0] else mid + 1,\n",
    "                             mid if encoding[0] else end)\n",
    "    else:\n",
    "        assert start == end\n",
    "        return start\n",
    "\n",
    "def get_id(encoding):\n",
    "    \"\"\"Get ID\"\"\"\n",
    "    row = binary_search(encoding[:7], 0, 127)\n",
    "    col = binary_search(encoding[7:10], 0, 7)\n",
    "    return row * 8 + col\n",
    "    \n",
    "def get_ids(lines):\n",
    "    return [get_id(encoding) for encoding in parse(lines)]\n",
    "\n",
    "def find_my_seat(lines):\n",
    "    \"\"\"Because there's only 8 columns, the ID is unique per seat\"\"\"\n",
    "    seats = {row * 8 + col: True for row in range(128) for col in range(8)}\n",
    "    for encoding in parse(lines):\n",
    "        del seats[get_id(encoding)]\n",
    "    keys = []\n",
    "    # Find the only keys whose neighbors are not in the list\n",
    "    for k in seats:\n",
    "        if not (seats.get(k - 1, False) or seats.get(k + 1, False)):\n",
    "            keys.append(k)\n",
    "    assert len(keys) == 1\n",
    "    return keys[0], keys[0] // 8, chr(ord('A') + keys[0] % 8)"
   ]
  },
  {
   "cell_type": "code",
   "execution_count": 2,
   "metadata": {},
   "outputs": [
    {
     "name": "stdout",
     "output_type": "stream",
     "text": [
      "The highest seat IDs in the boarding passes in 908\n",
      "I found my seat right in time ! it's 77D (ID = 619)\n"
     ]
    }
   ],
   "source": [
    "with open('inputs/day05.txt', 'r') as f:\n",
    "    inputs = f.read().splitlines()\n",
    "    \n",
    "print(f\"The highest seat IDs in the boarding passes in {max(get_ids(inputs))}\")\n",
    "print(\"I found my seat right in time ! it's {1}{2} (ID = {0})\".format(*find_my_seat(inputs)))"
   ]
  },
  {
   "cell_type": "code",
   "execution_count": 3,
   "metadata": {},
   "outputs": [],
   "source": [
    "from PIL import Image\n",
    "import numpy as np\n",
    "import pixelhouse as ph\n",
    "\n",
    "def boarding(lines, save=True):\n",
    "    # Save sequence of images\n",
    "    imgs = []\n",
    "    \n",
    "    ## Init canvas\n",
    "    w, h = 1400, 150\n",
    "    extent_w = 64\n",
    "    extent_h = extent_w * h / w\n",
    "    pal = ph.palette(3)\n",
    "    canvas = ph.Canvas(w, h, shift=0, extent=extent_w, bg=pal[0])\n",
    "    \n",
    "    ## Build the plane structure\n",
    "    offset_edges = 1\n",
    "    offset_seats = 0.5\n",
    "    step_h = (extent_h - offset_edges - offset_seats) * 2 / 8\n",
    "    step_w = (extent_w - offset_edges - 2 * offset_seats) * 2 / 128\n",
    "    col_offsets = [- extent_h + offset_edges + (2 * offset_seats if col > 3 else 0) for col in range(8)]\n",
    "    row_offsets = [- extent_w + offset_edges + 2 * offset_seats * row // 32 for row in range(128)]\n",
    "    for row in range(128):\n",
    "        for col in range(8):\n",
    "            canvas += ph.rectangle(\n",
    "                row_offsets[row] + step_w * row,\n",
    "                col_offsets[col] + col * step_h, \n",
    "                row_offsets[row] + step_w * (row + 1) - offset_seats,\n",
    "                col_offsets[col] + (col + 1) * step_h - offset_seats,\n",
    "                color='white', thickness=0.05)\n",
    "    ## Add rows and columns names\n",
    "    for row in range(128):\n",
    "        canvas += ph.text(str(row), x=row_offsets[row] + step_w * row + (step_w - offset_seats) / 2, \n",
    "                          y=extent_h - 0.5, font_size=0.8)\n",
    "    for col in range(8):\n",
    "        canvas += ph.text(chr(ord('A') + col), \n",
    "                          x=-extent_w + 0.4, \n",
    "                          y=col_offsets[col] + step_h * col + (step_h - offset_seats) / 2, font_size=0.8)\n",
    "    imgs.append(Image.fromarray(np.array(canvas.img)))\n",
    "    \n",
    "    ## Board passengers one by one\n",
    "    seats = {row * 8 + col: True for row in range(128) for col in range(8)}\n",
    "    for encoding in parse(lines):\n",
    "        row, col = divmod(get_id(encoding), 8)\n",
    "        del seats[row * 8 + col]\n",
    "        canvas += ph.rectangle(\n",
    "            row_offsets[row] + step_w * row,\n",
    "            col_offsets[col] + col * step_h, \n",
    "            row_offsets[row] + step_w * (row + 1) - offset_seats,\n",
    "            col_offsets[col] + (col + 1) * step_h - offset_seats,\n",
    "            color=pal[-2], thickness=-1)\n",
    "        imgs.append(Image.fromarray(np.array(canvas.img)))\n",
    "        \n",
    "    # Find my seat\n",
    "    keys = []\n",
    "    for k in seats:\n",
    "        if not (seats.get(k - 1, False) or seats.get(k + 1, False)):\n",
    "            keys.append(k)\n",
    "    assert len(keys) == 1\n",
    "    \n",
    "    # Plot my seat\n",
    "    row, col = divmod(keys[0], 8)\n",
    "    canvas += ph.rectangle(\n",
    "        row_offsets[row] + step_w * row,\n",
    "        col_offsets[col] + col * step_h,\n",
    "        row_offsets[row] + step_w * (row + 1) - offset_seats,\n",
    "        col_offsets[col] + (col + 1) * step_h - offset_seats,\n",
    "        color=pal[2], thickness=-1)\n",
    "    canvas += ph.text(\"Boarding complete !\", y=1.5, font_size=6)\n",
    "    imgs.extend([Image.fromarray(np.array(canvas.img))] * 70)\n",
    "    \n",
    "    # Save\n",
    "    canvas.save(\"viz/day05.png\")\n",
    "    imgs[0].save(fp=\"viz/day05.gif\", format='GIF', append_images=imgs[1:],\n",
    "                 save_all=True, duration=20, loop=0)"
   ]
  },
  {
   "cell_type": "code",
   "execution_count": 4,
   "metadata": {},
   "outputs": [
    {
     "name": "stdout",
     "output_type": "stream",
     "text": [
      "CPU times: user 8.9 s, sys: 1.18 s, total: 10.1 s\n",
      "Wall time: 10.2 s\n"
     ]
    }
   ],
   "source": [
    "%%time\n",
    "boarding(inputs)"
   ]
  },
  {
   "cell_type": "markdown",
   "metadata": {},
   "source": [
    "The plane is boarding, please make way to your seat...\n",
    "\n",
    "![Boarding animation](viz/day05.gif)"
   ]
  }
 ],
 "metadata": {
  "kernelspec": {
   "display_name": "Python 3",
   "language": "python",
   "name": "python3"
  },
  "language_info": {
   "codemirror_mode": {
    "name": "ipython",
    "version": 3
   },
   "file_extension": ".py",
   "mimetype": "text/x-python",
   "name": "python",
   "nbconvert_exporter": "python",
   "pygments_lexer": "ipython3",
   "version": "3.8.5"
  },
  "widgets": {
   "application/vnd.jupyter.widget-state+json": {
    "state": {},
    "version_major": 2,
    "version_minor": 0
   }
  }
 },
 "nbformat": 4,
 "nbformat_minor": 4
}
