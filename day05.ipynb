{
 "cells": [
  {
   "cell_type": "markdown",
   "metadata": {},
   "source": [
    "# 🍰 [Day 5](https://adventofcode.com/2020/day/5)"
   ]
  },
  {
   "cell_type": "code",
   "execution_count": 1,
   "metadata": {},
   "outputs": [],
   "source": [
    "def parse(lines):\n",
    "    return [[1 if c in ['F', 'L'] else 0 for c in line] for line in lines]\n",
    "\n",
    "def binary_search(encoding, start, end):\n",
    "    \"\"\"Recursive function to get row or column from binary encoding\"\"\"\n",
    "    if len(encoding):\n",
    "        mid = (start + end) // 2\n",
    "        return binary_search(encoding[1:], \n",
    "                             start if encoding[0] else mid + 1,\n",
    "                             mid if encoding[0] else end)\n",
    "    else:\n",
    "        assert start == end\n",
    "        return start\n",
    "\n",
    "def get_id(encoding):\n",
    "    \"\"\"Get ID\"\"\"\n",
    "    row = binary_search(encoding[:7], 0, 127)\n",
    "    col = binary_search(encoding[7:10], 0, 7)\n",
    "    return row * 8 + col\n",
    "    \n",
    "def get_ids(lines):\n",
    "    return [get_id(encoding) for encoding in parse(lines)]\n",
    "\n",
    "def find_my_seat(lines):\n",
    "    \"\"\"Because there's only 8 columns, the ID is unique per seat\"\"\"\n",
    "    seats = {row * 8 + col: True for row in range(128) for col in range(8)}\n",
    "    for encoding in parse(lines):\n",
    "        del seats[get_id(encoding)]\n",
    "    keys = []\n",
    "    # Find the only keys whose neighbors are not in the list\n",
    "    for k in seats:\n",
    "        if not (seats.get(k - 1, False) or seats.get(k + 1, False)):\n",
    "            keys.append(k)\n",
    "    assert len(keys) == 1\n",
    "    return keys[0], keys[0] // 8, chr(ord('A') + keys[0] % 8)"
   ]
  },
  {
   "cell_type": "code",
   "execution_count": 2,
   "metadata": {},
   "outputs": [
    {
     "name": "stdout",
     "output_type": "stream",
     "text": [
      "The highest seat IDs in the boarding passes in 908\n",
      "I found my seat right in time ! it's 77D (ID = 619)\n"
     ]
    }
   ],
   "source": [
    "with open('inputs/day05.txt', 'r') as f:\n",
    "    inputs = f.read().splitlines()\n",
    "print(f\"The highest seat IDs in the boarding passes in {max(get_ids(inputs))}\")\n",
    "print(\"I found my seat right in time ! it's {1}{2} (ID = {0})\".format(*find_my_seat(inputs)))"
   ]
  }
 ],
 "metadata": {
  "kernelspec": {
   "display_name": "Python 3",
   "language": "python",
   "name": "python3"
  },
  "language_info": {
   "codemirror_mode": {
    "name": "ipython",
    "version": 3
   },
   "file_extension": ".py",
   "mimetype": "text/x-python",
   "name": "python",
   "nbconvert_exporter": "python",
   "pygments_lexer": "ipython3",
   "version": "3.8.5"
  }
 },
 "nbformat": 4,
 "nbformat_minor": 4
}
