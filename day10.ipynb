{
 "cells": [
  {
   "cell_type": "markdown",
   "metadata": {},
   "source": [
    "# 🍬 [Day 10](https://adventofcode.com/2020/day/10)"
   ]
  },
  {
   "cell_type": "code",
   "execution_count": 1,
   "metadata": {},
   "outputs": [],
   "source": [
    "import heapq\n",
    "from collections import defaultdict\n",
    "\n",
    "def parse(inputs):\n",
    "    adapters = {}\n",
    "    max_value = 0\n",
    "    for line in inputs:\n",
    "        adapters[int(line)] = True\n",
    "        max_value = max(max_value, int(line))\n",
    "    adapters[max_value + 3] = True\n",
    "    return adapters\n",
    "\n",
    "def compute_score(chain):\n",
    "    \"\"\"Compute the score for part 1\"\"\"\n",
    "    num_one_diff = 0\n",
    "    num_three_diff = 0\n",
    "    for i, c in enumerate(chain[1:], 1):\n",
    "        if c - chain[i - 1] == 1:\n",
    "            num_one_diff += 1\n",
    "        elif c - chain[i - 1] == 3:\n",
    "            num_three_diff += 1\n",
    "    return num_one_diff * num_three_diff\n",
    "    \n",
    "\n",
    "def build_chain(adapters):\n",
    "    \"\"\"We're looking for the (unique ?) chain that includes all out joltage adapters\"\"\"\n",
    "    # Queue contains number of adapters left, sequence of adapter so far\n",
    "    queue = [(len(adapters), (0,))]\n",
    "    heapq.heapify(queue)\n",
    "    # DFS\n",
    "    while len(queue):\n",
    "        n, sequence = heapq.heappop(queue)\n",
    "        # Return when finding complete chain\n",
    "        if n == 0:\n",
    "            return sequence\n",
    "        # Extend depth first search\n",
    "        for i in [1, 2, 3]:\n",
    "            if sequence[-1] + i in adapters:\n",
    "                heapq.heappush(queue, (n - 1, sequence + (sequence[-1] + i,)))\n",
    "    return None\n",
    "    \n",
    "    \n",
    "def count_chains(adapters):\n",
    "    \"\"\"Using DFS for part 2 is not efficient enough\"\"\"\n",
    "    ## Dynamic Programming solution\n",
    "    ## cost[a] = number of ways to reach adapter a\n",
    "    ## cost[a] = cost[a - 3] + cost[a - 2] + cost[a - 1]\n",
    "    cost = defaultdict(lambda: 0)\n",
    "    cost[0] = 1\n",
    "    for a in sorted(adapters):\n",
    "        cost[a] = cost[a - 3] + cost[a - 2] + cost[a - 1]\n",
    "    return cost[a]"
   ]
  },
  {
   "cell_type": "code",
   "execution_count": 2,
   "metadata": {},
   "outputs": [
    {
     "name": "stdout",
     "output_type": "stream",
     "text": [
      "Multiplying the number of one and three diffs in the complete jolt chain yields 2240\n",
      "In total there are 99214346656768 possible chains that connects to my device\n"
     ]
    }
   ],
   "source": [
    "with open('inputs/day10.txt', 'r') as f:\n",
    "    adapters = parse(f.read().splitlines())\n",
    "    \n",
    "print(\"Multiplying the number of one and three diffs in the complete jolt chain\"\n",
    "      f\" yields {compute_score(build_chain(adapters))}\")\n",
    "print(f\"In total there are {count_chains(adapters)} possible chains that connects to my device\")"
   ]
  }
 ],
 "metadata": {
  "kernelspec": {
   "display_name": "Python 3",
   "language": "python",
   "name": "python3"
  },
  "language_info": {
   "codemirror_mode": {
    "name": "ipython",
    "version": 3
   },
   "file_extension": ".py",
   "mimetype": "text/x-python",
   "name": "python",
   "nbconvert_exporter": "python",
   "pygments_lexer": "ipython3",
   "version": "3.8.5"
  }
 },
 "nbformat": 4,
 "nbformat_minor": 4
}
