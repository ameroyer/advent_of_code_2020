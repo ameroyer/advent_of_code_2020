{
 "cells": [
  {
   "cell_type": "markdown",
   "metadata": {},
   "source": [
    "# 🌠 [Day 4](https://adventofcode.com/2020/day/4)"
   ]
  },
  {
   "cell_type": "code",
   "execution_count": 59,
   "metadata": {},
   "outputs": [],
   "source": [
    "import re\n",
    "\n",
    "def passport_check_keys(lines):\n",
    "    pattern = re.compile(\"(byr|iyr|eyr|hgt|hcl|ecl|pid|cid):(\\S+)( |\\n|$)\")\n",
    "    valid_keys = ['byr', 'iyr', 'eyr', 'hgt', 'hcl', 'ecl', 'pid']\n",
    "    num_valid_pwds = 0\n",
    "    for line in lines:\n",
    "        keys = [match.group(1) for match in re.finditer(pattern, line)\n",
    "                if match.group(1) != 'cid']\n",
    "        num_valid_pwds += int(sorted(keys) == sorted(valid_keys))\n",
    "    return num_valid_pwds\n",
    "\n",
    "\n",
    "def passport_check_format(lines):\n",
    "    pattern = re.compile(\"(byr|iyr|eyr|hgt|hcl|ecl|pid|cid):(\\S+)( |\\n|$)\")\n",
    "    valid_keys = ['byr', 'iyr', 'eyr', 'hgt', 'hcl', 'ecl', 'pid']\n",
    "    num_valid_pwds = 0\n",
    "    for line in lines:\n",
    "        keys = [match.group(1) for match in re.finditer(pattern, line)\n",
    "                if match.group(1) != 'cid']\n",
    "        num_valid_pwds += int(sorted(keys) == sorted(valid_keys))\n",
    "    return num_valid_pwds"
   ]
  },
  {
   "cell_type": "code",
   "execution_count": 60,
   "metadata": {},
   "outputs": [
    {
     "name": "stdout",
     "output_type": "stream",
     "text": [
      "There are 264 passwords with valid keys\n"
     ]
    }
   ],
   "source": [
    "test= \"\"\"ecl:gry pid:860033327 eyr:2020 hcl:#fffffd\n",
    "byr:1937 iyr:2017 cid:147 hgt:183cm\n",
    "\n",
    "iyr:2013 ecl:amb cid:350 eyr:2023 pid:028048884\n",
    "hcl:#cfa07d byr:1929\n",
    "\n",
    "hcl:#ae17e1 iyr:2013\n",
    "eyr:2024\n",
    "ecl:brn pid:760753108 byr:1931\n",
    "hgt:179cm\n",
    "\n",
    "hcl:#cfa07d eyr:2025 pid:166559648\n",
    "iyr:2011 ecl:brn hgt:59in\"\"\".split('\\n\\n')\n",
    "\n",
    "with open('inputs/day04.txt', 'r') as f:\n",
    "    inputs = f.read().split('\\n\\n')\n",
    "print(f\"There are {passport_check_keys(inputs)} passwords with valid keys\")"
   ]
  },
  {
   "cell_type": "code",
   "execution_count": null,
   "metadata": {},
   "outputs": [],
   "source": []
  }
 ],
 "metadata": {
  "kernelspec": {
   "display_name": "Python 3",
   "language": "python",
   "name": "python3"
  },
  "language_info": {
   "codemirror_mode": {
    "name": "ipython",
    "version": 3
   },
   "file_extension": ".py",
   "mimetype": "text/x-python",
   "name": "python",
   "nbconvert_exporter": "python",
   "pygments_lexer": "ipython3",
   "version": "3.8.5"
  }
 },
 "nbformat": 4,
 "nbformat_minor": 4
}
