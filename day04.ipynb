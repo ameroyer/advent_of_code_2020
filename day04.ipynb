{
 "cells": [
  {
   "cell_type": "markdown",
   "metadata": {},
   "source": [
    "# 🌠 [Day 4](https://adventofcode.com/2020/day/4)"
   ]
  },
  {
   "cell_type": "code",
   "execution_count": 1,
   "metadata": {},
   "outputs": [],
   "source": [
    "import re\n",
    "\n",
    "def passport_check_keys(lines):\n",
    "    pattern = re.compile(\"(byr|iyr|eyr|hgt|hcl|ecl|pid|cid):(\\S+)( |\\n|$)\")\n",
    "    valid_keys = sorted(['byr', 'iyr', 'eyr', 'hgt', 'hcl', 'ecl', 'pid'])\n",
    "    num_valid_pwds = 0\n",
    "    for line in lines:\n",
    "        keys = [match.group(1) for match in re.finditer(pattern, line)\n",
    "                if match.group(1) != 'cid']\n",
    "        num_valid_pwds += int(sorted(keys) == valid_keys)\n",
    "    return num_valid_pwds\n",
    "\n",
    "\n",
    "def passport_check_format(lines):\n",
    "    pattern = re.compile(\"(byr:[0-9]{4}\"\n",
    "                         \"|iyr:[0-9]{4}\"\n",
    "                         \"|eyr:[0-9]{4}\"\n",
    "                         \"|hgt:[0-9]+(cm|in)\"\n",
    "                         \"|hcl:#[a-f0-9]{6}\"\n",
    "                         \"|ecl:(amb|blu|brn|gry|grn|hzl|oth)\"\n",
    "                         \"|pid:[0-9]{9}\"\n",
    "                         \"|cid:\\S+)\"\n",
    "                         \"( |\\n|$)\")\n",
    "    valid_keys = ['byr', 'iyr', 'eyr', 'hgt', 'hcl', 'ecl', 'pid']\n",
    "    pwds = []\n",
    "    for line in lines:\n",
    "        p = {match[0][:3]: match[0][4:] \n",
    "             for match in re.findall(pattern, line)}\n",
    "        # Check that all keys are present\n",
    "        valid = True\n",
    "        for k in valid_keys:\n",
    "            if k not in p:\n",
    "                valid = False\n",
    "                break\n",
    "        if not valid: continue\n",
    "        # Check number ranges\n",
    "        valid = ((1920 <= int(p['byr']) <= 2002) and\n",
    "                 (2010 <= int(p['iyr']) <= 2020) and\n",
    "                 (2020 <= int(p['eyr']) <= 2030) and\n",
    "                 ((p['hgt'][-2:] == 'cm' and 150 <= int(p['hgt'][:-2]) <= 193) or\n",
    "                  (p['hgt'][-2:] == 'in' and 59 <= int(p['hgt'][:-2]) <= 76))\n",
    "                )\n",
    "        if valid:\n",
    "            pwds.append(p)\n",
    "    return len(pwds), pwds"
   ]
  },
  {
   "cell_type": "code",
   "execution_count": 2,
   "metadata": {},
   "outputs": [],
   "source": [
    "with open('inputs/day04.txt', 'r') as f:\n",
    "    inputs = f.read().split('\\n\\n')\n",
    "    \n",
    "print(f\"There are {passport_check_keys(inputs)} passports with valid keys\")\n",
    "print(f\"But only {passport_check_format(inputs)[0]} valid passports\")"
   ]
  }
 ],
 "metadata": {
  "kernelspec": {
   "display_name": "Python 3",
   "language": "python",
   "name": "python3"
  },
  "language_info": {
   "codemirror_mode": {
    "name": "ipython",
    "version": 3
   },
   "file_extension": ".py",
   "mimetype": "text/x-python",
   "name": "python",
   "nbconvert_exporter": "python",
   "pygments_lexer": "ipython3",
   "version": "3.8.5"
  }
 },
 "nbformat": 4,
 "nbformat_minor": 4
}
