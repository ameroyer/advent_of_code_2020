{
 "cells": [
  {
   "cell_type": "markdown",
   "metadata": {},
   "source": [
    "# ☕ [Day 14](https://adventofcode.com/2020/day/14)"
   ]
  },
  {
   "cell_type": "code",
   "execution_count": 47,
   "metadata": {},
   "outputs": [],
   "source": [
    "import itertools\n",
    "\n",
    "def init_program(inputs, part1=True):\n",
    "    memory = {}\n",
    "    fixed_bits, floating_bits, mask_offset = [], [], 0\n",
    "    for line in inputs:\n",
    "        if line.startswith('mask ='):\n",
    "            bitmask = line[7:].strip()\n",
    "            fixed_bits = [(35 - i) for i, x in enumerate(bitmask) if x == '0']\n",
    "            floating_bits = [(35 - i) for i, x in enumerate(bitmask) if x == 'X']\n",
    "            mask_offset = sum(2**(35 - i) for i, x in enumerate(bitmask) if x == '1' )\n",
    "        elif line.startswith('mem'):\n",
    "            # parse\n",
    "            _, line = line.split('[', 1)\n",
    "            adress, line = line.split(']', 1)\n",
    "            adress = int(adress)\n",
    "            value = int(line[3:])\n",
    "            if part1:\n",
    "                # Apply mask: we only need to look for the 1 values \n",
    "                # in the mask (mask_offset) + the ones at Xs position in value\n",
    "                value = mask_offset + sum(2**i for i in floating_bits \n",
    "                                          if (value // 2**i) % 2 == 1)\n",
    "                memory[adress] = value\n",
    "            else:\n",
    "                # First, apply 0 and 1 values in the mask\n",
    "                adress = mask_offset + sum(2**i for i in fixed_bits \n",
    "                                           if (adress // 2**i) % 2 == 1)\n",
    "                # Then, for all the floating values, \n",
    "                # we need to loook for all possible combinations\n",
    "                for assignment in itertools.product([0, 1], repeat=len(floating_bits)):\n",
    "                    new_adress = adress + sum(\n",
    "                        2**i for i, vi in zip(floating_bits, assignment) if vi)\n",
    "                    memory[new_adress] = value\n",
    "    return sum(memory.values())"
   ]
  },
  {
   "cell_type": "code",
   "execution_count": 48,
   "metadata": {},
   "outputs": [
    {
     "data": {
      "text/plain": [
       "208"
      ]
     },
     "execution_count": 48,
     "metadata": {},
     "output_type": "execute_result"
    }
   ],
   "source": [
    "inputs = \"\"\"mask = XXXXXXXXXXXXXXXXXXXXXXXXXXXXX1XXXX0X\n",
    "mem[8] = 11\n",
    "mem[7] = 101\n",
    "mem[8] = 0\"\"\".splitlines()\n",
    "\n",
    "init_program(inputs, part1=True)\n",
    "\n",
    "inputs = \"\"\"mask = 000000000000000000000000000000X1001X\n",
    "mem[42] = 100\n",
    "mask = 00000000000000000000000000000000X0XX\n",
    "mem[26] = 1\"\"\".splitlines()\n",
    "init_program(inputs, part1=False)"
   ]
  },
  {
   "cell_type": "code",
   "execution_count": 21,
   "metadata": {},
   "outputs": [
    {
     "name": "stdout",
     "output_type": "stream",
     "text": [
      "The sum of memory states after initialization is 9967721333886\n"
     ]
    }
   ],
   "source": [
    "with open('inputs/day14.txt', 'r') as f:\n",
    "    inputs = f.read().splitlines()\n",
    "    \n",
    "print(f\"The sum of memory states after initialization is {init_program(inputs)}\")\n",
    "print(f\"The sum of memory states after initialization is {init_program(inputs)}\")"
   ]
  },
  {
   "cell_type": "code",
   "execution_count": null,
   "metadata": {},
   "outputs": [],
   "source": []
  }
 ],
 "metadata": {
  "kernelspec": {
   "display_name": "Python 3",
   "language": "python",
   "name": "python3"
  },
  "language_info": {
   "codemirror_mode": {
    "name": "ipython",
    "version": 3
   },
   "file_extension": ".py",
   "mimetype": "text/x-python",
   "name": "python",
   "nbconvert_exporter": "python",
   "pygments_lexer": "ipython3",
   "version": "3.8.5"
  }
 },
 "nbformat": 4,
 "nbformat_minor": 4
}
