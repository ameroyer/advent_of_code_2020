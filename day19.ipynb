{
 "cells": [
  {
   "cell_type": "markdown",
   "metadata": {},
   "source": [
    "# 🍫 [Day 19](https://adventofcode.com/2020/day/19)"
   ]
  },
  {
   "cell_type": "code",
   "execution_count": 1,
   "metadata": {},
   "outputs": [],
   "source": [
    "import re \n",
    "from collections import defaultdict\n",
    "\n",
    "def do_you_like_regexps(rules, part1=True, verbose=False):\n",
    "    # First determine the orders for the rules\n",
    "    num_rules = len(rules)\n",
    "    sorted_rules = {}\n",
    "    depends_on = {}\n",
    "    unlocks = defaultdict(lambda: [])\n",
    "    \n",
    "    roots = []\n",
    "    for line in rules:\n",
    "        # Parse\n",
    "        rule, aux = line.split(': ', 1)\n",
    "        rule = int(rule)\n",
    "        aux = [int(x) for x in aux.replace('|', '').split() if x.isnumeric()]\n",
    "        sorted_rules[rule] = line\n",
    "        \n",
    "        # Base case\n",
    "        if len(aux) == 0:\n",
    "            roots.append(rule)\n",
    "            continue\n",
    "        \n",
    "        # Store graph\n",
    "        depends_on[rule] = aux\n",
    "        for r in list(set(aux)):\n",
    "            unlocks[r].append(rule)\n",
    "            \n",
    "                \n",
    "    # Then, resolve each rule in the correct order\n",
    "    regexps = defaultdict(lambda: None)\n",
    "    queue = roots\n",
    "    while len(queue):\n",
    "        rule_id = queue.pop()\n",
    "        # Resolve regexp\n",
    "        rule, aux = sorted_rules[rule_id].split(': ', 1)\n",
    "        rule = int(rule)\n",
    "        if aux.startswith('\"'):\n",
    "            regexps[rule] = aux.replace('\"', '')\n",
    "        # Special case: rule 8 and rule 11\n",
    "        elif not part1 and rule_id == 8:\n",
    "            # 8: 42 | 42 8 \n",
    "            regexps[8] = f'({regexps[42]})+'\n",
    "        elif not part1 and rule_id == 11:\n",
    "            # 11: 42 31 | 42 11 31\n",
    "            # Hacky, to handle same number of repeats\n",
    "            pattern = []\n",
    "            for k in range(1, 6):\n",
    "                pattern.append(f'{regexps[42] * k + regexps[31] * k}')\n",
    "            regexps[11] = '|'.join(pattern)\n",
    "            regexps[11] = f'({regexps[11]})'\n",
    "        else:\n",
    "            pattern = ''\n",
    "            acc = 0\n",
    "            pipe = False\n",
    "            for c in aux:\n",
    "                if c == ' ':\n",
    "                    if acc != 0:\n",
    "                        pattern = f'{pattern}{regexps[acc]}'\n",
    "                        acc = 0\n",
    "                elif c == '|':\n",
    "                    pipe = True\n",
    "                    pattern = f'{pattern}|'\n",
    "                else:\n",
    "                    acc = acc * 10 + int(c)\n",
    "            pattern = f'{pattern}{regexps[acc]}'\n",
    "            if pipe:\n",
    "                pattern = f'({pattern})'\n",
    "            regexps[rule] = pattern\n",
    "        if verbose:\n",
    "            print(f\"Rule {rule} matches pattern {regexps[rule]}\")\n",
    "        \n",
    "        # Add next children\n",
    "        for r in unlocks[rule_id]:\n",
    "            if sum(regexps[x] is None for x in depends_on[r]) == 0:\n",
    "                queue.append(r)\n",
    "    # Return\n",
    "    return regexps\n",
    "\n",
    "\n",
    "def check_messages(rules, messages, part1=True):\n",
    "    pattern = do_you_like_regexps(rules, part1=part1)[0]\n",
    "    pattern = re.compile(f'^{pattern}$')\n",
    "    return sum(int(pattern.match(m) is not None) for m in messages)"
   ]
  },
  {
   "cell_type": "code",
   "execution_count": 2,
   "metadata": {},
   "outputs": [
    {
     "name": "stdout",
     "output_type": "stream",
     "text": [
      "There are 241 messages that match rule 0.\n",
      "There are 424 messages that match rule 0 with recursive rules.\n"
     ]
    }
   ],
   "source": [
    "with open('inputs/day19.txt', 'r') as f:\n",
    "    inputs = f.read()\n",
    "    rules, messages = inputs.split('\\n\\n')\n",
    "    rules = rules.splitlines()\n",
    "    messages = messages.splitlines()\n",
    "\n",
    "print(f\"There are {check_messages(rules, messages)} messages that match rule 0.\")\n",
    "print(f\"There are {check_messages(rules, messages, False)} messages that match rule 0 with recursive rules.\")"
   ]
  }
 ],
 "metadata": {
  "kernelspec": {
   "display_name": "Python 3",
   "language": "python",
   "name": "python3"
  },
  "language_info": {
   "codemirror_mode": {
    "name": "ipython",
    "version": 3
   },
   "file_extension": ".py",
   "mimetype": "text/x-python",
   "name": "python",
   "nbconvert_exporter": "python",
   "pygments_lexer": "ipython3",
   "version": "3.8.5"
  }
 },
 "nbformat": 4,
 "nbformat_minor": 4
}
