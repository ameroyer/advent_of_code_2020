{
 "cells": [
  {
   "cell_type": "markdown",
   "metadata": {},
   "source": [
    "# 🎁 [Day 2](https://adventofcode.com/2020/day/2)"
   ]
  },
  {
   "cell_type": "code",
   "execution_count": 1,
   "metadata": {},
   "outputs": [],
   "source": [
    "def find_valid_passwords(lines):\n",
    "    valid = 0\n",
    "    for l in lines:\n",
    "        pattern, pwd = l.split(': ')\n",
    "        occs = pattern[:-1].split('-')\n",
    "        count = sum(x == pattern[-1] for x in pwd)\n",
    "        valid += int(int(occs[0]) <= count <= int(occs[1]))\n",
    "    return valid\n",
    "            \n",
    "def find_real_valid_passwords(lines):\n",
    "    valid = 0\n",
    "    for l in lines:\n",
    "        pattern, pwd = l.split(': ')\n",
    "        occs = pattern[:-1].split('-')\n",
    "        valid += int((pwd[int(occs[0]) - 1]  == pattern[-1]) ^ \n",
    "                     (pwd[int(occs[1]) - 1]  == pattern[-1])\n",
    "                    )\n",
    "    return valid"
   ]
  },
  {
   "cell_type": "code",
   "execution_count": 2,
   "metadata": {},
   "outputs": [],
   "source": [
    "with open('inputs/day02.txt', 'r') as f:\n",
    "    pwds = f.read().splitlines()\n",
    "    \n",
    "print(f\"There are {find_valid_passwords(pwds)} valid passwords.\")\n",
    "print(f\"There are {find_real_valid_passwords(pwds)} real toboggan valid passwords.\")"
   ]
  }
 ],
 "metadata": {
  "kernelspec": {
   "display_name": "Python 3",
   "language": "python",
   "name": "python3"
  },
  "language_info": {
   "codemirror_mode": {
    "name": "ipython",
    "version": 3
   },
   "file_extension": ".py",
   "mimetype": "text/x-python",
   "name": "python",
   "nbconvert_exporter": "python",
   "pygments_lexer": "ipython3",
   "version": "3.8.5"
  }
 },
 "nbformat": 4,
 "nbformat_minor": 4
}
