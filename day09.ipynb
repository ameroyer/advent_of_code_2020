{
 "cells": [
  {
   "cell_type": "markdown",
   "metadata": {},
   "source": [
    "# 💗 [Day 9](https://adventofcode.com/2020/day/9)"
   ]
  },
  {
   "cell_type": "code",
   "execution_count": 44,
   "metadata": {},
   "outputs": [],
   "source": [
    "from collections import deque\n",
    "\n",
    "\n",
    "def streaming_2sum(lst, limit=25):\n",
    "    # Store the first 25 numbers\n",
    "    nums = {}\n",
    "    first_in = []\n",
    "    for n in lst:\n",
    "        \n",
    "        # Search for pair\n",
    "        if len(nums) > limit:\n",
    "            del nums[first_in.pop(0)]\n",
    "            found_pair = False\n",
    "            for k in nums:\n",
    "                found_pair = found_pair or (n - k) in nums\n",
    "            if not found_pair:\n",
    "                return n\n",
    "            \n",
    "        # Append\n",
    "        nums[n] = True\n",
    "        first_in.append(n)\n",
    "    return None\n",
    "\n",
    "\n",
    "def find_contiguous_sum(nums, target):\n",
    "    # At any point j, keep all the cumulative sums cs[:j], cs[1:j], cs[2:j] ...\n",
    "    sums = []\n",
    "    for end in range(len(nums)):\n",
    "        # Adding j to all current candidate cumulative sums\n",
    "        for i, s in enumerate(sums):\n",
    "            sums[i] += nums[end]\n",
    "            if sums[i] == target:\n",
    "                return min(nums[i:end + 1]) + max(nums[i: end + 1])\n",
    "        # cumulative sums that start at index j\n",
    "        sums.append(nums[end])\n",
    "        "
   ]
  },
  {
   "cell_type": "code",
   "execution_count": 45,
   "metadata": {},
   "outputs": [
    {
     "data": {
      "text/plain": [
       "62"
      ]
     },
     "execution_count": 45,
     "metadata": {},
     "output_type": "execute_result"
    }
   ],
   "source": [
    "nums = \"\"\"35\n",
    "20\n",
    "15\n",
    "25\n",
    "47\n",
    "40\n",
    "62\n",
    "55\n",
    "65\n",
    "95\n",
    "102\n",
    "117\n",
    "150\n",
    "182\n",
    "127\n",
    "219\n",
    "299\n",
    "277\n",
    "309\n",
    "576\"\"\".splitlines()\n",
    "nums = list(map(int, nums))\n",
    "\n",
    "streaming_2sum(nums, 5)\n",
    "find_contiguous_sum(nums, 127)"
   ]
  },
  {
   "cell_type": "code",
   "execution_count": 47,
   "metadata": {},
   "outputs": [
    {
     "name": "stdout",
     "output_type": "stream",
     "text": [
      "The first invalid number is 90433990\n",
      "The first invalid number is 11691646\n"
     ]
    }
   ],
   "source": [
    "with open('inputs/day09.txt', 'r') as f:\n",
    "    inputs = list(map(int, f.read().splitlines()))\n",
    "    \n",
    "    \n",
    "print(f\"The first invalid number is {streaming_2sum(inputs, 25)}\")\n",
    "    \n",
    "print(f\"Summing the smallest and largest integer in the {find_contiguous_sum(inputs, 90433990)}\")"
   ]
  },
  {
   "cell_type": "code",
   "execution_count": null,
   "metadata": {},
   "outputs": [],
   "source": []
  }
 ],
 "metadata": {
  "kernelspec": {
   "display_name": "Python 3",
   "language": "python",
   "name": "python3"
  },
  "language_info": {
   "codemirror_mode": {
    "name": "ipython",
    "version": 3
   },
   "file_extension": ".py",
   "mimetype": "text/x-python",
   "name": "python",
   "nbconvert_exporter": "python",
   "pygments_lexer": "ipython3",
   "version": "3.8.5"
  }
 },
 "nbformat": 4,
 "nbformat_minor": 4
}
